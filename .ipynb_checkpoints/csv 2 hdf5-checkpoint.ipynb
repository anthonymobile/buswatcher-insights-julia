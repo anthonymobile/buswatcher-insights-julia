{
 "cells": [
  {
   "cell_type": "code",
   "execution_count": 1,
   "id": "75a2dc91-575f-4747-9c9e-c0f225544635",
   "metadata": {},
   "outputs": [],
   "source": [
    "# # https://towardsdatascience.com/dask-vs-vaex-a-qualitative-comparison-32e700e5f08b\n",
    "\n",
    "# # convert to hdf5\n",
    "# import vaex\n",
    "# df = vaex.from_csv('nyc_buses_with_passenger_counts_20210401_20210630.csv', convert=True, chunk_size=5_000_000)\n",
    "# df.shape"
   ]
  },
  {
   "cell_type": "code",
   "execution_count": 2,
   "id": "691463be-8553-4174-8f37-9aab40bdee05",
   "metadata": {},
   "outputs": [
    {
     "data": {
      "text/plain": [
       "(163313879, 8)"
      ]
     },
     "execution_count": 2,
     "metadata": {},
     "output_type": "execute_result"
    }
   ],
   "source": [
    "import vaex\n",
    "df = vaex.open('nyc_buses_with_passenger_counts_20210401_20210630.csv.hdf5')\n",
    "df.shape"
   ]
  },
  {
   "cell_type": "code",
   "execution_count": 3,
   "id": "f79387a4-09c4-4a55-9ec2-056de827e6e3",
   "metadata": {},
   "outputs": [
    {
     "data": {
      "text/html": [
       "<table>\n",
       "<thead>\n",
       "<tr><th>#                            </th><th>route_short  </th><th>vehicle_id   </th><th style=\"text-align: right;\">    lat</th><th style=\"text-align: right;\">     lon</th><th>timestamp          </th><th>date      </th><th style=\"text-align: right;\">  hour</th><th>passenger_count  </th></tr>\n",
       "</thead>\n",
       "<tbody>\n",
       "<tr><td><i style='opacity: 0.6'>0</i></td><td>B35          </td><td>MTA NYCT_1079</td><td style=\"text-align: right;\">40.6421</td><td style=\"text-align: right;\">-73.9887</td><td>2021-06-06 20:57:57</td><td>2021-06-06</td><td style=\"text-align: right;\">    20</td><td>13               </td></tr>\n",
       "<tr><td><i style='opacity: 0.6'>1</i></td><td>B35          </td><td>MTA NYCT_1105</td><td style=\"text-align: right;\">40.6533</td><td style=\"text-align: right;\">-73.9192</td><td>2021-06-06 20:58:16</td><td>2021-06-06</td><td style=\"text-align: right;\">    20</td><td>\\N               </td></tr>\n",
       "<tr><td><i style='opacity: 0.6'>2</i></td><td>B35          </td><td>MTA NYCT_1096</td><td style=\"text-align: right;\">40.6431</td><td style=\"text-align: right;\">-73.9787</td><td>2021-06-06 20:58:04</td><td>2021-06-06</td><td style=\"text-align: right;\">    20</td><td>6                </td></tr>\n",
       "<tr><td><i style='opacity: 0.6'>3</i></td><td>B35          </td><td>MTA NYCT_1073</td><td style=\"text-align: right;\">40.651 </td><td style=\"text-align: right;\">-73.9455</td><td>2021-06-06 20:58:10</td><td>2021-06-06</td><td style=\"text-align: right;\">    20</td><td>19               </td></tr>\n",
       "<tr><td><i style='opacity: 0.6'>4</i></td><td>B35          </td><td>MTA NYCT_1103</td><td style=\"text-align: right;\">40.6525</td><td style=\"text-align: right;\">-73.924 </td><td>2021-06-06 20:58:16</td><td>2021-06-06</td><td style=\"text-align: right;\">    20</td><td>35               </td></tr>\n",
       "<tr><td><i style='opacity: 0.6'>5</i></td><td>B35          </td><td>MTA NYCT_1107</td><td style=\"text-align: right;\">40.6511</td><td style=\"text-align: right;\">-73.9421</td><td>2021-06-06 20:58:09</td><td>2021-06-06</td><td style=\"text-align: right;\">    20</td><td>19               </td></tr>\n",
       "<tr><td><i style='opacity: 0.6'>6</i></td><td>B1           </td><td>MTA NYCT_4755</td><td style=\"text-align: right;\">40.5781</td><td style=\"text-align: right;\">-73.9412</td><td>2021-06-06 20:58:15</td><td>2021-06-06</td><td style=\"text-align: right;\">    20</td><td>\\N               </td></tr>\n",
       "<tr><td><i style='opacity: 0.6'>7</i></td><td>B1           </td><td>MTA NYCT_4794</td><td style=\"text-align: right;\">40.6045</td><td style=\"text-align: right;\">-73.9981</td><td>2021-06-06 20:58:04</td><td>2021-06-06</td><td style=\"text-align: right;\">    20</td><td>\\N               </td></tr>\n",
       "<tr><td><i style='opacity: 0.6'>8</i></td><td>B1           </td><td>MTA NYCT_4784</td><td style=\"text-align: right;\">40.5769</td><td style=\"text-align: right;\">-73.9646</td><td>2021-06-06 20:58:00</td><td>2021-06-06</td><td style=\"text-align: right;\">    20</td><td>\\N               </td></tr>\n",
       "<tr><td><i style='opacity: 0.6'>9</i></td><td>B1           </td><td>MTA NYCT_4785</td><td style=\"text-align: right;\">40.6218</td><td style=\"text-align: right;\">-74.0284</td><td>2021-06-06 20:57:54</td><td>2021-06-06</td><td style=\"text-align: right;\">    20</td><td>\\N               </td></tr>\n",
       "</tbody>\n",
       "</table>"
      ],
      "text/plain": [
       "  #  route_short    vehicle_id         lat       lon  timestamp            date          hour  passenger_count\n",
       "  0  B35            MTA NYCT_1079  40.6421  -73.9887  2021-06-06 20:57:57  2021-06-06      20  13\n",
       "  1  B35            MTA NYCT_1105  40.6533  -73.9192  2021-06-06 20:58:16  2021-06-06      20  \\N\n",
       "  2  B35            MTA NYCT_1096  40.6431  -73.9787  2021-06-06 20:58:04  2021-06-06      20  6\n",
       "  3  B35            MTA NYCT_1073  40.651   -73.9455  2021-06-06 20:58:10  2021-06-06      20  19\n",
       "  4  B35            MTA NYCT_1103  40.6525  -73.924   2021-06-06 20:58:16  2021-06-06      20  35\n",
       "  5  B35            MTA NYCT_1107  40.6511  -73.9421  2021-06-06 20:58:09  2021-06-06      20  19\n",
       "  6  B1             MTA NYCT_4755  40.5781  -73.9412  2021-06-06 20:58:15  2021-06-06      20  \\N\n",
       "  7  B1             MTA NYCT_4794  40.6045  -73.9981  2021-06-06 20:58:04  2021-06-06      20  \\N\n",
       "  8  B1             MTA NYCT_4784  40.5769  -73.9646  2021-06-06 20:58:00  2021-06-06      20  \\N\n",
       "  9  B1             MTA NYCT_4785  40.6218  -74.0284  2021-06-06 20:57:54  2021-06-06      20  \\N"
      ]
     },
     "execution_count": 3,
     "metadata": {},
     "output_type": "execute_result"
    }
   ],
   "source": [
    "df.head()"
   ]
  },
  {
   "cell_type": "code",
   "execution_count": 4,
   "id": "62396108-c081-416a-9cba-f65b65506f7f",
   "metadata": {},
   "outputs": [
    {
     "data": {
      "text/plain": [
       "route_short              string\n",
       "vehicle_id               string\n",
       "lat                     float64\n",
       "lon                     float64\n",
       "timestamp          large_string\n",
       "date                     string\n",
       "hour                      int64\n",
       "passenger_count          string\n",
       "dtype: object"
      ]
     },
     "execution_count": 4,
     "metadata": {},
     "output_type": "execute_result"
    }
   ],
   "source": [
    "df.dtypes"
   ]
  },
  {
   "cell_type": "code",
   "execution_count": 5,
   "id": "e1e6f993-b0c2-4426-bec4-68eeb7f2e71a",
   "metadata": {},
   "outputs": [],
   "source": [
    "df['date'] = df.date.astype('datetime64')"
   ]
  },
  {
   "cell_type": "code",
   "execution_count": 6,
   "id": "a46fa2f3-7011-4120-9eaa-cef4fa608f41",
   "metadata": {},
   "outputs": [
    {
     "data": {
      "text/plain": [
       "[<matplotlib.lines.Line2D at 0x150ffe610>]"
      ]
     },
     "execution_count": 6,
     "metadata": {},
     "output_type": "execute_result"
    },
    {
     "data": {
      "image/png": "[encoded data removed]",
      "text/plain": [
       "<Figure size 432x288 with 1 Axes>"
      ]
     },
     "metadata": {
      "needs_background": "light"
     },
     "output_type": "display_data"
    }
   ],
   "source": [
    "df.viz.histogram('lat')"
   ]
  },
  {
   "cell_type": "code",
   "execution_count": null,
   "id": "fae33f0c-bea5-411e-8a10-9158bb34b765",
   "metadata": {},
   "outputs": [],
   "source": []
  }
 ],
 "metadata": {
  "kernelspec": {
   "display_name": "Python [conda env:bigdata]",
   "language": "python",
   "name": "conda-env-bigdata-py"
  },
  "language_info": {
   "codemirror_mode": {
    "name": "ipython",
    "version": 3
   },
   "file_extension": ".py",
   "mimetype": "text/x-python",
   "name": "python",
   "nbconvert_exporter": "python",
   "pygments_lexer": "ipython3",
   "version": "3.9.5"
  }
 },
 "nbformat": 4,
 "nbformat_minor": 5
}
