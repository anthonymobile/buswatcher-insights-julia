{
 "cells": [
  {
   "cell_type": "raw",
   "id": "3814c411-4c7c-4dba-8977-552bea59bfe6",
   "metadata": {},
   "source": [
    "https://www.juliafordatascience.com/big-csvs/"
   ]
  },
  {
   "cell_type": "code",
   "execution_count": null,
   "id": "eca0de67-5642-4a28-904d-23703a15f7af",
   "metadata": {},
   "outputs": [],
   "source": [
    "# import Pkg\n",
    "# Pkg.add(\"CSV\")\n",
    "# Pkg.add(\"OnlineStats\")\n",
    "# Pkg.add(\"Plots\")"
   ]
  },
  {
   "cell_type": "code",
   "execution_count": null,
   "id": "18c8ef11-f45a-4580-8094-6ab7e15c3dfe",
   "metadata": {},
   "outputs": [],
   "source": [
    "using CSV, OnlineStats, Plots\n",
    "\n",
    "# `reusebuffer=true` lets us reuse the same computer memory for each row\n",
    "rows = CSV.Rows(\"data/nyc_taxi_train.csv\", \n",
    "\treusebuffer=true)\n",
    "\n",
    "# Create an iterator that parses the types\n",
    "itr = (parse(Int, r.passenger_count) => parse(Float64, r.fare_amount)\n",
    "    for r in rows)\n",
    "\n",
    "# OnlineStats works with any iterator\n",
    "o = GroupBy(Int, Hist(0:.5:100))\n",
    "\n",
    "fit!(o, itr)\n",
    "\n",
    "# Plot results for 1-4 passengers\n",
    "plot(plot(o[1]), plot(o[2]), plot(o[3]), plot(o[4]),\n",
    "    layout=(4,1), link=:all, lab=[1 2 3 4]\n",
    ")"
   ]
  },
  {
   "cell_type": "code",
   "execution_count": 1,
   "id": "aee261d1-d24b-4269-9a9b-a16b3c544a7f",
   "metadata": {},
   "outputs": [
    {
     "ename": "LoadError",
     "evalue": "The input for GroupBy is Union{Tuple{Int64, Int64}, NamedTuple{names, Tuple{Int64, Int64}}, Pair{<:Int64, <:Int64}} where names.  Found Int64.",
     "output_type": "error",
     "traceback": [
      "The input for GroupBy is Union{Tuple{Int64, Int64}, NamedTuple{names, Tuple{Int64, Int64}}, Pair{<:Int64, <:Int64}} where names.  Found Int64.",
      "",
      "Stacktrace:",
      " [1] error(s::String)",
      "   @ Base ./error.jl:33",
      " [2] fit!(o::GroupBy{Int64, Int64, Hist{Int64, StepRange{Int64, Int64}}}, y::Int64)",
      "   @ OnlineStatsBase ~/.julia/packages/OnlineStatsBase/Yn2uL/src/OnlineStatsBase.jl:144",
      " [3] fit!(o::GroupBy{Int64, Int64, Hist{Int64, StepRange{Int64, Int64}}}, y::Pair{Int64, Float64}) (repeats 2 times)",
      "   @ OnlineStatsBase ~/.julia/packages/OnlineStatsBase/Yn2uL/src/OnlineStatsBase.jl:146",
      " [4] top-level scope",
      "   @ In[1]:17",
      " [5] eval",
      "   @ ./boot.jl:373 [inlined]",
      " [6] include_string(mapexpr::typeof(REPL.softscope), mod::Module, code::String, filename::String)",
      "   @ Base ./loading.jl:1196"
     ]
    }
   ],
   "source": [
    "using CSV, OnlineStats, Plots\n",
    "\n",
    "# `reusebuffer=true` lets us reuse the same computer memory for each row\n",
    "rows = CSV.Rows(\"data/nyc_buses_with_passenger_counts_20210401_20210630.csv\", missingstring=\"\\\\N\", reusebuffer=true)\n",
    "\n",
    "# Create an iterator that parses the types\n",
    "\n",
    "# itr = (parse(Int, r.hour) => parse(Float64, r.passenger_count)\n",
    "#     for r in rows)\n",
    "# BUG ----- handle missing rows ------------> MethodError: no method matching parse(::Type{Float64}, ::Missing)\n",
    "itr = (parse(Int, r.hour) => ismissing(r.passenger_count) ? 0.0 : parse(Float64, r.passenger_count)\n",
    "    for r in rows)\n",
    "\n",
    "# OnlineStats works with any iterator\n",
    "o = GroupBy(Int, Hist(0:1:24))\n",
    "\n",
    "fit!(o, itr)\n",
    "\n",
    "# Plot results for 1-4 passengers\n",
    "plot(plot(o[1]), plot(o[2]), plot(o[3]), plot(o[4]),\n",
    "    layout=(4,1), link=:all, lab=[1 2 3 4]\n",
    ")"
   ]
  },
  {
   "cell_type": "code",
   "execution_count": null,
   "id": "df2bb77b-ffb8-4ace-aa87-00a559a16f56",
   "metadata": {},
   "outputs": [],
   "source": []
  }
 ],
 "metadata": {
  "kernelspec": {
   "display_name": "Julia 1.7.0",
   "language": "julia",
   "name": "julia-1.7"
  },
  "language_info": {
   "file_extension": ".jl",
   "mimetype": "application/julia",
   "name": "julia",
   "version": "1.7.1"
  }
 },
 "nbformat": 4,
 "nbformat_minor": 5
}
