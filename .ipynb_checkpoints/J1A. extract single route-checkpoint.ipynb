{
 "cells": [
  {
   "cell_type": "code",
   "execution_count": 1,
   "id": "668e2b18",
   "metadata": {},
   "outputs": [
    {
     "data": {
      "text/plain": [
       "\"M15\""
      ]
     },
     "execution_count": 1,
     "metadata": {},
     "output_type": "execute_result"
    }
   ],
   "source": [
    "# route = \"M15\""
   ]
  },
  {
   "cell_type": "code",
   "execution_count": 2,
   "id": "d1ff2c35",
   "metadata": {},
   "outputs": [],
   "source": [
    "# import Pkg\n",
    "# Pkg.add(\"CSV\")\n",
    "# Pkg.add(\"DataFrames\")\n",
    "# Pkg.add(\"DataConvenience\")\n",
    "# Pkg.add(\"Parquet\")\n",
    "# Pkg.add(\"HDF5\")\n",
    "# Pkg.add(\"JuliaDB\")"
   ]
  },
  {
   "cell_type": "raw",
   "id": "471b75c8",
   "metadata": {},
   "source": [
    "IN-MEMORY VERSION (DOESNT WORK WELL)\n",
    "https://discourse.julialang.org/t/converting-csv-to-parquet-in-julia/57328"
   ]
  },
  {
   "cell_type": "code",
   "execution_count": 3,
   "id": "b2b42259",
   "metadata": {},
   "outputs": [],
   "source": [
    "# using CSV\n",
    "# using DataFrames\n",
    "\n",
    "# df = CSV.read(\"data/nyc_buses_with_passenger_counts_20210401_20210630.csv\", missingstring=\"\\\\N\\\", DataFrame)\n",
    "\n",
    "# # filter out rows without our route\n",
    "# df = filter(row -> row.route_short != route, df)\n",
    "\n",
    "# # write parquet\n",
    "# using Parquet\n",
    "# file = \"data/nyc_buses_with_passenger_counts_20210401_20210630_$route.julia.parquet\"\n",
    "# write_parquet(file, df)"
   ]
  },
  {
   "cell_type": "markdown",
   "id": "de83e624",
   "metadata": {},
   "source": [
    "## STREAMING VERSION"
   ]
  },
  {
   "cell_type": "raw",
   "id": "acb2e3a5",
   "metadata": {},
   "source": [
    "Using CsvChunkIterator\n",
    "https://github.com/xiaodaigh/DataConvenience.jl \n",
    "\n",
    "Lots of ideas in here\n",
    "https://discourse.julialang.org/t/struggling-with-julia-and-large-datasets/56916/7?page=3\n",
    "\n",
    "and here\n",
    "https://www.juliafordatascience.com/big-csvs/"
   ]
  },
  {
   "cell_type": "code",
   "execution_count": 4,
   "id": "a4130092",
   "metadata": {},
   "outputs": [
    {
     "name": "stdout",
     "output_type": "stream",
     "text": [
      "Extracted 13824 rows on route M15 in chunk 0\n",
      "Extracted 12585 rows on route M15 in chunk 1\n",
      "Extracted 11613 rows on route M15 in chunk 2\n",
      "Extracted 11414 rows on route M15 in chunk 3\n",
      "Extracted 11099 rows on route M15 in chunk 4\n",
      "Extracted 11242 rows on route M15 in chunk 5\n",
      "Extracted 10696 rows on route M15 in chunk 6\n",
      "Extracted 13765 rows on route M15 in chunk 7\n",
      "Extracted 10300 rows on route M15 in chunk 8\n",
      "Extracted 9699 rows on route M15 in chunk 9\n",
      "Extracted 8688 rows on route M15 in chunk 10\n",
      "Extracted 12057 rows on route M15 in chunk 11\n",
      "Extracted 11917 rows on route M15 in chunk 12\n",
      "Extracted 11207 rows on route M15 in chunk 13\n",
      "Extracted 10492 rows on route M15 in chunk 14\n",
      "Extracted 11987 rows on route M15 in chunk 15\n",
      "Extracted 11255 rows on route M15 in chunk 16\n",
      "Extracted 10409 rows on route M15 in chunk 17\n",
      "wrote chunk to data/j1/nyc_buses_with_passenger_counts_20210401_20210630_M15.parquet\n"
     ]
    },
    {
     "data": {
      "text/plain": [
       "4"
      ]
     },
     "execution_count": 4,
     "metadata": {},
     "output_type": "execute_result"
    }
   ],
   "source": [
    "using DataFrames\n",
    "using CSV\n",
    "using DataConvenience\n",
    "using Parquet\n",
    "\n",
    "filepath = \"data/nyc_buses_with_passenger_counts_20210401_20210630.csv\"\n",
    "\n",
    "master_df = DataFrame()\n",
    "\n",
    "i=0\n",
    "\n",
    "for chunk in CsvChunkIterator(filepath, missingstring=\"\\\\N\", limit=1000000)\n",
    "    \n",
    "    # \n",
    "#     # filter out rows without our route\n",
    "#     chunk = filter(row -> row.route_short == route, chunk)\n",
    "    n = nrow(chunk)\n",
    "    println(\"Extracted $n rows in chunk $i\")\n",
    "    \n",
    "    # concatenate to the master df\n",
    "    master_df  = vcat(master_df, chunk)\n",
    "    \n",
    "    i += 1\n",
    "    \n",
    "end\n",
    "\n",
    "# write to a new file\n",
    "file = string(\"data/citywide_test_julia.parquet\")\n",
    "print(\"wrote to $file\\n\")\n",
    "write_parquet(file, master_df)"
   ]
  },
  {
   "cell_type": "code",
   "execution_count": 12,
   "id": "77b81f49",
   "metadata": {},
   "outputs": [
    {
     "data": {
      "text/html": [
       "<table class=\"data-frame\"><thead><tr><th></th><th>variable</th><th>mean</th><th>min</th><th>median</th><th>max</th></tr><tr><th></th><th>Symbol</th><th>Union…</th><th>Any</th><th>Union…</th><th>Any</th></tr></thead><tbody><p>13 rows × 8 columns (omitted printing of 3 columns)</p><tr><th>1</th><td>timestamp</td><td></td><td>2021-04-01 00:22:17</td><td></td><td>2021-07-01 01:52:16</td></tr><tr><th>2</th><td>service_date</td><td></td><td>2021-04-01</td><td></td><td>2021-06-30</td></tr><tr><th>3</th><td>hour</td><td>11.7208</td><td>0</td><td>11.0</td><td>23</td></tr><tr><th>4</th><td>minute</td><td>29.3916</td><td>0</td><td>29.0</td><td>59</td></tr><tr><th>5</th><td>route_short</td><td></td><td>M15</td><td></td><td>M15</td></tr><tr><th>6</th><td>direction</td><td>0.560463</td><td>0</td><td>1.0</td><td>1</td></tr><tr><th>7</th><td>vehicle_id</td><td></td><td>MTA NYCT_5253</td><td></td><td>MTA NYCT_6121</td></tr><tr><th>8</th><td>lat</td><td>40.7505</td><td>40.7015</td><td>40.7493</td><td>40.8034</td></tr><tr><th>9</th><td>lon</td><td>-73.9704</td><td>-74.0128</td><td>-73.9709</td><td>-73.9305</td></tr><tr><th>10</th><td>next_stop_id</td><td></td><td>MTA_401664</td><td></td><td>MTA_904920</td></tr><tr><th>11</th><td>next_stop_d</td><td>120.193</td><td>0.0</td><td>113.64</td><td>377.88</td></tr><tr><th>12</th><td>next_stop_d_along_route</td><td>7351.94</td><td>0.0</td><td>7333.54</td><td>13888.4</td></tr><tr><th>13</th><td>passenger_count</td><td>7.5683</td><td>1</td><td>6.0</td><td>45</td></tr></tbody></table>"
      ],
      "text/latex": [
       "\\begin{tabular}{r|cccccc}\n",
       "\t& variable & mean & min & median & max & \\\\\n",
       "\t\\hline\n",
       "\t& Symbol & Union… & Any & Union… & Any & \\\\\n",
       "\t\\hline\n",
       "\t1 & timestamp &  & 2021-04-01 00:22:17 &  & 2021-07-01 01:52:16 & $\\dots$ \\\\\n",
       "\t2 & service\\_date &  & 2021-04-01 &  & 2021-06-30 & $\\dots$ \\\\\n",
       "\t3 & hour & 11.7208 & 0 & 11.0 & 23 & $\\dots$ \\\\\n",
       "\t4 & minute & 29.3916 & 0 & 29.0 & 59 & $\\dots$ \\\\\n",
       "\t5 & route\\_short &  & M15 &  & M15 & $\\dots$ \\\\\n",
       "\t6 & direction & 0.560463 & 0 & 1.0 & 1 & $\\dots$ \\\\\n",
       "\t7 & vehicle\\_id &  & MTA NYCT\\_5253 &  & MTA NYCT\\_6121 & $\\dots$ \\\\\n",
       "\t8 & lat & 40.7505 & 40.7015 & 40.7493 & 40.8034 & $\\dots$ \\\\\n",
       "\t9 & lon & -73.9704 & -74.0128 & -73.9709 & -73.9305 & $\\dots$ \\\\\n",
       "\t10 & next\\_stop\\_id &  & MTA\\_401664 &  & MTA\\_904920 & $\\dots$ \\\\\n",
       "\t11 & next\\_stop\\_d & 120.193 & 0.0 & 113.64 & 377.88 & $\\dots$ \\\\\n",
       "\t12 & next\\_stop\\_d\\_along\\_route & 7351.94 & 0.0 & 7333.54 & 13888.4 & $\\dots$ \\\\\n",
       "\t13 & passenger\\_count & 7.5683 & 1 & 6.0 & 45 & $\\dots$ \\\\\n",
       "\\end{tabular}\n"
      ],
      "text/plain": [
       "13×8 DataFrame. Omitted printing of 4 columns\n",
       "│ Row │ variable                │ mean     │ min                 │ median   │\n",
       "│     │ \u001b[90mSymbol\u001b[39m                  │ \u001b[90mUnion…\u001b[39m   │ \u001b[90mAny\u001b[39m                 │ \u001b[90mUnion…\u001b[39m   │\n",
       "├─────┼─────────────────────────┼──────────┼─────────────────────┼──────────┤\n",
       "│ 1   │ timestamp               │          │ 2021-04-01 00:22:17 │          │\n",
       "│ 2   │ service_date            │          │ 2021-04-01          │          │\n",
       "│ 3   │ hour                    │ 11.7208  │ 0                   │ 11.0     │\n",
       "│ 4   │ minute                  │ 29.3916  │ 0                   │ 29.0     │\n",
       "│ 5   │ route_short             │          │ M15                 │          │\n",
       "│ 6   │ direction               │ 0.560463 │ 0                   │ 1.0      │\n",
       "│ 7   │ vehicle_id              │          │ MTA NYCT_5253       │          │\n",
       "│ 8   │ lat                     │ 40.7505  │ 40.7015             │ 40.7493  │\n",
       "│ 9   │ lon                     │ -73.9704 │ -74.0128            │ -73.9709 │\n",
       "│ 10  │ next_stop_id            │          │ MTA_401664          │          │\n",
       "│ 11  │ next_stop_d             │ 120.193  │ 0.0                 │ 113.64   │\n",
       "│ 12  │ next_stop_d_along_route │ 7351.94  │ 0.0                 │ 7333.54  │\n",
       "│ 13  │ passenger_count         │ 7.5683   │ 1                   │ 6.0      │"
      ]
     },
     "execution_count": 12,
     "metadata": {},
     "output_type": "execute_result"
    }
   ],
   "source": [
    "describe(df_check)"
   ]
  },
  {
   "cell_type": "code",
   "execution_count": null,
   "id": "e175fc27",
   "metadata": {},
   "outputs": [],
   "source": []
  }
 ],
 "metadata": {
  "kernelspec": {
   "display_name": "Julia 1.7.1",
   "language": "julia",
   "name": "julia-1.7"
  },
  "language_info": {
   "file_extension": ".jl",
   "mimetype": "application/julia",
   "name": "julia",
   "version": "1.7.1"
  }
 },
 "nbformat": 4,
 "nbformat_minor": 5
}
