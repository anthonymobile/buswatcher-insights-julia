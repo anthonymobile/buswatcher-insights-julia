{
 "cells": [
  {
   "cell_type": "markdown",
   "id": "d30449bc-c5ca-4aa5-b584-e28b7626a30d",
   "metadata": {
    "tags": []
   },
   "source": [
    "# Extract one clean route from citywide 3-month dump"
   ]
  },
  {
   "cell_type": "code",
   "execution_count": 1,
   "id": "45bbcf4c-2833-4b6b-8c9c-113e7eb9c2c1",
   "metadata": {},
   "outputs": [],
   "source": [
    "route='M15'"
   ]
  },
  {
   "cell_type": "code",
   "execution_count": 2,
   "id": "f7e742b2-5d21-4564-9b73-64de11d9fa8c",
   "metadata": {},
   "outputs": [],
   "source": [
    "import pandas as pd"
   ]
  },
  {
   "cell_type": "markdown",
   "id": "ed0138ee-d203-4d2a-a0b3-2404c332dd1a",
   "metadata": {},
   "source": [
    "# Create single route parquet table"
   ]
  },
  {
   "cell_type": "code",
   "execution_count": 3,
   "id": "d862a4d3-7a05-4dc9-b35c-86c275c64497",
   "metadata": {},
   "outputs": [],
   "source": [
    "def loadcsv_and_clean():\n",
    "    df_tmp = pd.read_csv('nyc_buses_with_passenger_counts_20210401_20210630.csv')\n",
    "    \n",
    "    # select one route\n",
    "    df_tmp = df_tmp.loc[df_tmp['route_short'] == 'M15']\n",
    "\n",
    "    # convert both date columns to datetime\n",
    "    df_tmp['timestamp']=pd.to_datetime(df_tmp['timestamp'])\n",
    "    df_tmp['date']=pd.to_datetime(df_tmp['date'])\n",
    "\n",
    "    # strip MTA NYCT_ from vehicle id\n",
    "    df_tmp[\"vehicle_id\"]=df_tmp[\"vehicle_id\"].str[9:]\n",
    "\n",
    "    # dump to pickle for faster access later\n",
    "    df_tmp.to_parquet(f'nyc_buses_with_passenger_counts_20210401_20210630_{route}.parquet')\n",
    "    df_tmp.shape"
   ]
  },
  {
   "cell_type": "code",
   "execution_count": 4,
   "id": "dbed90a0-4f6c-435b-8e5e-c69ea6090c51",
   "metadata": {},
   "outputs": [],
   "source": [
    "# loadcsv_and_clean()"
   ]
  },
  {
   "cell_type": "markdown",
   "id": "b1370e0a-f0b7-4de1-98fd-4e19b079742d",
   "metadata": {},
   "source": [
    "# Recode passenger_count"
   ]
  },
  {
   "cell_type": "markdown",
   "id": "a961b306-4921-447a-9423-2240fc631cf2",
   "metadata": {},
   "source": [
    "## load table"
   ]
  },
  {
   "cell_type": "code",
   "execution_count": 5,
   "id": "4b0fb667-4f54-4f0e-ae2d-13203a4dff62",
   "metadata": {},
   "outputs": [
    {
     "data": {
      "text/plain": [
       "(1809342, 8)"
      ]
     },
     "execution_count": 5,
     "metadata": {},
     "output_type": "execute_result"
    }
   ],
   "source": [
    "df = pd.read_parquet(f'nyc_buses_with_passenger_counts_20210401_20210630_{route}.parquet')\n",
    "df.shape"
   ]
  },
  {
   "cell_type": "code",
   "execution_count": 6,
   "id": "15f92ea4-bcad-4950-9aec-1270ce2186ac",
   "metadata": {},
   "outputs": [
    {
     "data": {
      "text/plain": [
       "route_short                object\n",
       "vehicle_id                 object\n",
       "lat                       float64\n",
       "lon                       float64\n",
       "timestamp          datetime64[ns]\n",
       "date               datetime64[ns]\n",
       "hour                        int64\n",
       "passenger_count            object\n",
       "dtype: object"
      ]
     },
     "execution_count": 6,
     "metadata": {},
     "output_type": "execute_result"
    }
   ],
   "source": [
    "df.dtypes"
   ]
  },
  {
   "cell_type": "code",
   "execution_count": 7,
   "id": "3d014bf7-dc94-4f08-a28d-7aa6a27fdbfa",
   "metadata": {},
   "outputs": [
    {
     "data": {
      "text/html": [
       "<div>\n",
       "<style scoped>\n",
       "    .dataframe tbody tr th:only-of-type {\n",
       "        vertical-align: middle;\n",
       "    }\n",
       "\n",
       "    .dataframe tbody tr th {\n",
       "        vertical-align: top;\n",
       "    }\n",
       "\n",
       "    .dataframe thead th {\n",
       "        text-align: right;\n",
       "    }\n",
       "</style>\n",
       "<table border=\"1\" class=\"dataframe\">\n",
       "  <thead>\n",
       "    <tr style=\"text-align: right;\">\n",
       "      <th></th>\n",
       "      <th>route_short</th>\n",
       "      <th>vehicle_id</th>\n",
       "      <th>lat</th>\n",
       "      <th>lon</th>\n",
       "      <th>timestamp</th>\n",
       "      <th>date</th>\n",
       "      <th>hour</th>\n",
       "      <th>passenger_count</th>\n",
       "    </tr>\n",
       "  </thead>\n",
       "  <tbody>\n",
       "    <tr>\n",
       "      <th>671</th>\n",
       "      <td>M15</td>\n",
       "      <td>5830</td>\n",
       "      <td>40.8030</td>\n",
       "      <td>-73.9320</td>\n",
       "      <td>2021-06-06 20:58:57</td>\n",
       "      <td>2021-06-06</td>\n",
       "      <td>20</td>\n",
       "      <td>\\N</td>\n",
       "    </tr>\n",
       "    <tr>\n",
       "      <th>672</th>\n",
       "      <td>M15</td>\n",
       "      <td>5906</td>\n",
       "      <td>40.7767</td>\n",
       "      <td>-73.9526</td>\n",
       "      <td>2021-06-06 20:58:55</td>\n",
       "      <td>2021-06-06</td>\n",
       "      <td>20</td>\n",
       "      <td>\\N</td>\n",
       "    </tr>\n",
       "    <tr>\n",
       "      <th>673</th>\n",
       "      <td>M15</td>\n",
       "      <td>5885</td>\n",
       "      <td>40.7073</td>\n",
       "      <td>-74.0043</td>\n",
       "      <td>2021-06-06 20:59:04</td>\n",
       "      <td>2021-06-06</td>\n",
       "      <td>20</td>\n",
       "      <td>\\N</td>\n",
       "    </tr>\n",
       "    <tr>\n",
       "      <th>674</th>\n",
       "      <td>M15</td>\n",
       "      <td>5871</td>\n",
       "      <td>40.7316</td>\n",
       "      <td>-73.9824</td>\n",
       "      <td>2021-06-06 20:59:18</td>\n",
       "      <td>2021-06-06</td>\n",
       "      <td>20</td>\n",
       "      <td>\\N</td>\n",
       "    </tr>\n",
       "    <tr>\n",
       "      <th>675</th>\n",
       "      <td>M15</td>\n",
       "      <td>5827</td>\n",
       "      <td>40.7136</td>\n",
       "      <td>-73.9924</td>\n",
       "      <td>2021-06-06 20:59:10</td>\n",
       "      <td>2021-06-06</td>\n",
       "      <td>20</td>\n",
       "      <td>\\N</td>\n",
       "    </tr>\n",
       "  </tbody>\n",
       "</table>\n",
       "</div>"
      ],
      "text/plain": [
       "    route_short vehicle_id      lat      lon           timestamp       date  \\\n",
       "671         M15       5830  40.8030 -73.9320 2021-06-06 20:58:57 2021-06-06   \n",
       "672         M15       5906  40.7767 -73.9526 2021-06-06 20:58:55 2021-06-06   \n",
       "673         M15       5885  40.7073 -74.0043 2021-06-06 20:59:04 2021-06-06   \n",
       "674         M15       5871  40.7316 -73.9824 2021-06-06 20:59:18 2021-06-06   \n",
       "675         M15       5827  40.7136 -73.9924 2021-06-06 20:59:10 2021-06-06   \n",
       "\n",
       "     hour passenger_count  \n",
       "671    20              \\N  \n",
       "672    20              \\N  \n",
       "673    20              \\N  \n",
       "674    20              \\N  \n",
       "675    20              \\N  "
      ]
     },
     "execution_count": 7,
     "metadata": {},
     "output_type": "execute_result"
    }
   ],
   "source": [
    "df.head()"
   ]
  },
  {
   "cell_type": "markdown",
   "id": "f857ed80-fba2-4892-a18e-3788f3aa4d92",
   "metadata": {},
   "source": [
    "## Recode passenger_count"
   ]
  },
  {
   "cell_type": "raw",
   "id": "a7e1d89a-d422-41de-a173-6a9b78028b85",
   "metadata": {},
   "source": [
    "Recoding passenger counts properly requires a multi-step process."
   ]
  },
  {
   "cell_type": "markdown",
   "id": "a1dd4035-3d40-4a9f-9022-7f3922b46785",
   "metadata": {},
   "source": [
    "### Identify vehicles with occupancy sensors installed. "
   ]
  },
  {
   "cell_type": "code",
   "execution_count": 8,
   "id": "8c3a24c9-10d1-4f9d-bbfb-0d6d448536f0",
   "metadata": {},
   "outputs": [
    {
     "data": {
      "text/plain": [
       "array(['6037', '6105', '6051', '6101', '6035', '6071', '6053', '6045',\n",
       "       '6049', '6061', '6069', '6043', '6063', '6067', '6073', '6079',\n",
       "       '6059', '6075', '6039', '6065', '6129', '6108', '6217', '6094',\n",
       "       '6095', '6197', '6163', '6190', '6205', '6097', '6164', '4961'],\n",
       "      dtype=object)"
      ]
     },
     "execution_count": 8,
     "metadata": {},
     "output_type": "execute_result"
    }
   ],
   "source": [
    "vehicle_lookup = df.query(\"passenger_count != r'\\\\N' \")['vehicle_id']\n",
    "vehicle_lookup.unique()"
   ]
  },
  {
   "cell_type": "markdown",
   "id": "a5512a82-415c-4d99-a27e-0b70804923d6",
   "metadata": {},
   "source": [
    "### TODO ---- Set \\N rows for known sensor-equipped vehicles to zero. ----"
   ]
  },
  {
   "cell_type": "raw",
   "id": "5a01490f-0506-4c4e-b9dc-fc4565854393",
   "metadata": {},
   "source": [
    "for any row meeting the following conditions:\n",
    "    1. passenger_count=\"\\\\N\"\n",
    "    2. vehicle_id isin vehicle_lookup (might need to make it a series)\n",
    "    \n",
    "how to do it?\n",
    "    1. # https://stackoverflow.com/questions/50449088/check-if-value-from-one-dataframe-exists-in-another-dataframe/50449144\n",
    "        Df1 = Df1.assign(result=Df1['name'].isin(Df2['IDs']).astype(int))\n",
    "    2. df.apply(lambda x: 0 if (passenger_count=\"\\\\N\" AND ****vehicle_id is found in vehicle_lookup***) else x['passenger_count'])\n",
    "    3. df_rows_to_update = df.query(\"int(passenger_count) is False and vehicle_id.isin(vehicle_lookup)\")\n",
    "    4. # try this https://coderedirect.com/questions/590953/pandas-fillna-with-a-lookup-table"
   ]
  },
  {
   "cell_type": "markdown",
   "id": "2d45933a-9511-4f63-b194-0bbadc5caa80",
   "metadata": {},
   "source": [
    "### Convert all remaining passenger_count=\"\\N\" to NaN"
   ]
  },
  {
   "cell_type": "code",
   "execution_count": 9,
   "id": "b25df697-9889-43c0-80e6-69729983c067",
   "metadata": {},
   "outputs": [],
   "source": [
    "# replace \\N with 0\n",
    "df[\"passenger_count\"] = df[\"passenger_count\"].replace(\"\\\\N\",0)\n",
    "\n",
    "#  and cast passenger_count to int\n",
    "df[\"passenger_count\"] = pd.to_numeric(df[\"passenger_count\"]) "
   ]
  },
  {
   "cell_type": "markdown",
   "id": "095558cf-cab5-4749-bcfa-9b7d67a76150",
   "metadata": {},
   "source": [
    "### Save an updated table"
   ]
  },
  {
   "cell_type": "code",
   "execution_count": 10,
   "id": "c030a2e3-f609-4b28-9e70-78baea585782",
   "metadata": {},
   "outputs": [],
   "source": [
    "df.to_parquet(f'nyc_buses_with_passenger_counts_20210401_20210630_{route}_cleaned.parquet')"
   ]
  },
  {
   "cell_type": "markdown",
   "id": "032a0fec-e7b1-4187-b8c1-abea4dfe63ef",
   "metadata": {},
   "source": [
    "## Appendix A. PREPARING THE CITYWIDE CSV FILE"
   ]
  },
  {
   "cell_type": "markdown",
   "id": "d979c6fb-4e8a-4710-a8d7-d5b32d29ef84",
   "metadata": {},
   "source": [
    "To pull a single route's worth of position + passenger_count data (3 months, April 1 to June 30, 2021) from the master dump. Data set will consist of a large dump (3 months) from the NYCBusWatcher database, with the following columns: route_short, lat, lon, timestamp, date(timestamp), hour(timestamp), minute(timestamp), passenger_count\n",
    "\n",
    "Extracting the data with duckdb from the parquet of buses_merged (2020.10.15 through 2021.07.13):\n",
    "(passenger counts begin mid-day March 30)\n",
    "\n",
    "1. inspect the raw data\n",
    "describe select * from parquet_scan('parquet/*.parquet');\n",
    "\n",
    "2. Create a table with the data we want (April 1 through June 30:\n",
    "CREATE VIEW nn_dump AS SELECT route_short, vehicle_id, lat, lon, CAST(timestamp as TIMESTAMP) as timestamp, CAST(timestamp as DATE) as date, extract('hour' FROM CAST(timestamp as TIMESTAMP)) as hour, passenger_count FROM parquet_scan('parquet/*.parquet') WHERE CAST(timestamp as DATE) BETWEEN '2021-04-01' AND '2021-06-30';\n",
    "\n",
    "3. check the data\n",
    "SELECT count(*) from nn_dump; # 163,313,879\n",
    "SELECT * from nn_dump LIMIT 10;\n",
    "SELECT date, count(*) from nn_dump GROUP BY date ORDER BY date;\n",
    "SELECT passenger_count, count(*) from nn_dump GROUP BY passenger_count ORDER BY passenger_count;\n",
    "\n",
    "*** Keep in mind we do not know if the missing buses (passenger_count = \\N) are zero passengers or no sensor, we will impute this below from the vehicle_ids that do have pasenger_counts. *** \n",
    "\n",
    "4. dump to csv\n",
    "COPY nn_dump TO 'nyc_buses_with_passenger_counts_20210401_20210630.csv' WITH (HEADER 1, DELIMITER ',');\n",
    "\n",
    "5. then gzip it\n",
    "gzip -c ~/PyCharm\\ Projects/tmp/buses_merged/nn_dump.csv > nyc_buses_with_passenger_counts_20210401_20210630.csv.gz"
   ]
  }
 ],
 "metadata": {
  "kernelspec": {
   "display_name": "Python [conda env:tensorflow]",
   "language": "python",
   "name": "conda-env-tensorflow-py"
  },
  "language_info": {
   "codemirror_mode": {
    "name": "ipython",
    "version": 3
   },
   "file_extension": ".py",
   "mimetype": "text/x-python",
   "name": "python",
   "nbconvert_exporter": "python",
   "pygments_lexer": "ipython3",
   "version": "3.9.7"
  }
 },
 "nbformat": 4,
 "nbformat_minor": 5
}
