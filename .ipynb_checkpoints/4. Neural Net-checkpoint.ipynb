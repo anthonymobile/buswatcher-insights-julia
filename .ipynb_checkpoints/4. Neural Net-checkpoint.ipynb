{
 "cells": [
  {
   "cell_type": "code",
   "execution_count": null,
   "id": "36440a12",
   "metadata": {},
   "outputs": [],
   "source": [
    "# single route\n",
    "route = 'M15'\n",
    "import pandas as pd\n",
    "import numpy as np\n",
    "df = pd.read_parquet(f'data/nyc_buses_with_passenger_counts_20210401_20210630_{route}_features.parquet')\n",
    "\n",
    "# https://queirozf.com/entries/one-hot-encoding-a-feature-on-a-pandas-dataframe-an-example\n",
    "df = pd.concat([df,pd.get_dummies(df['next_stop_id_cleaned'], prefix='stop_id_')],axis=1)\n",
    "df = pd.concat([df,pd.get_dummies(df['vehicle_id'], prefix='vehicle_id_')],axis=1)\n",
    "\n",
    "cols = ['month',   'week',   'day',   'hour',   'day_of_week',   'is_weekend',   'Monday',   'Tuesday',   'Wednesday',   'Thursday',   'Friday',   'Saturday',   'Sunday',   'day_of_week_sin',   'day_of_week_cos',   'hour_norm',   'hour_cos',   'hour_sin',   'cluster_id',   'lat',   'lon',   'utm_x',   'utm_y',   'direction',   'next_stop_d',   'next_stop_d_along_route',   'stop_id__401664',   'stop_id__401665',   'stop_id__401666',   'stop_id__401669',   'stop_id__401670',   'stop_id__401675',   'stop_id__401679',   'stop_id__401681',   'stop_id__401682',   'stop_id__401685',   'stop_id__401686',   'stop_id__401687',   'stop_id__401688',   'stop_id__401689',   'stop_id__401690',   'stop_id__401691',   'stop_id__401694',   'stop_id__401696',   'stop_id__401697',   'stop_id__401698',   'stop_id__401699',   'stop_id__401701',   'stop_id__401702',   'stop_id__401703',   'stop_id__401704',   'stop_id__401706',   'stop_id__401707',   'stop_id__401708',   'stop_id__401709',   'stop_id__401710',   'stop_id__401711',   'stop_id__401712',   'stop_id__401715',   'stop_id__401716',   'stop_id__401718',   'stop_id__401721',   'stop_id__401722',   'stop_id__401723',   'stop_id__401724',   'stop_id__401725',   'stop_id__401726',   'stop_id__401727',   'stop_id__401729',   'stop_id__401730',   'stop_id__401731',   'stop_id__401732',   'stop_id__401738',   'stop_id__401739',   'stop_id__401740',   'stop_id__401741',   'stop_id__401742',   'stop_id__401744',   'stop_id__401745',   'stop_id__401746',   'stop_id__401747',   'stop_id__401748',   'stop_id__401749',   'stop_id__401753',   'stop_id__401754',   'stop_id__401755',   'stop_id__401756',   'stop_id__401758',   'stop_id__401759',   'stop_id__401760',   'stop_id__401761',   'stop_id__401762',   'stop_id__401763',   'stop_id__401764',   'stop_id__401765',   'stop_id__401768',   'stop_id__401769',   'stop_id__401771',   'stop_id__401772',   'stop_id__401775',   'stop_id__401778',   'stop_id__401779',   'stop_id__401780',   'stop_id__401781',   'stop_id__401782',   'stop_id__401784',   'stop_id__401785',   'stop_id__401786',   'stop_id__401787',   'stop_id__401793',   'stop_id__401797',   'stop_id__401802',   'stop_id__402088',   'stop_id__402090',   'stop_id__402111',   'stop_id__402112',   'stop_id__403342',   'stop_id__403480',   'stop_id__403590',   'stop_id__403647',   'stop_id__403831',   'stop_id__403849',   'stop_id__403887',   'stop_id__404105',   'stop_id__404253',   'stop_id__404327',   'stop_id__404843',   'stop_id__404844',   'stop_id__404850',   'stop_id__404909',   'stop_id__404995',   'stop_id__405084',   'stop_id__405098',   'stop_id__405100',   'stop_id__405138',   'stop_id__405233',   'stop_id__405307',   'stop_id__405320',   'stop_id__405336',   'stop_id__405337',   'stop_id__405359',   'stop_id__405373',   'stop_id__405396',   'stop_id__803002',   'stop_id__803019',   'stop_id__803054',   'stop_id__803228',   'stop_id__903054',   'stop_id__903102',   'stop_id__903266',   'stop_id__904920',   'vehicle_id__4961',   'vehicle_id__6035',   'vehicle_id__6037',   'vehicle_id__6039',   'vehicle_id__6043',   'vehicle_id__6045',   'vehicle_id__6049',   'vehicle_id__6051',   'vehicle_id__6053',   'vehicle_id__6059',   'vehicle_id__6061',   'vehicle_id__6063',   'vehicle_id__6065',   'vehicle_id__6067',   'vehicle_id__6069',   'vehicle_id__6071',   'vehicle_id__6073',   'vehicle_id__6075',   'vehicle_id__6079',   'vehicle_id__6095',   'vehicle_id__6097',   'vehicle_id__6101',   'vehicle_id__6105',   'vehicle_id__6163',   'vehicle_id__6164',   'vehicle_id__6197',   'vehicle_id__6205',   'vehicle_id__6217' ,   'passenger_count']\n",
    "df = df[cols]"
   ]
  },
  {
   "cell_type": "code",
   "execution_count": null,
   "id": "56cf424f",
   "metadata": {},
   "outputs": [],
   "source": [
    "# disable GPU for small models\n",
    "def gpu_off():\n",
    "    import tensorflow as tf\n",
    "    print(tf.config.get_visible_devices())\n",
    "\n",
    "    physical_devices = tf.config.list_physical_devices('GPU')\n",
    "    try:\n",
    "        # Disable all GPUS\n",
    "        tf.config.set_visible_devices([], 'GPU')\n",
    "        visible_devices = tf.config.get_visible_devices()\n",
    "        for device in visible_devices:\n",
    "            assert device.device_type != 'GPU'\n",
    "    except:\n",
    "        # Invalid device or cannot modify virtual devices once initialized.\n",
    "        pass\n",
    "\n",
    "    print(tf.config.get_visible_devices())"
   ]
  },
  {
   "cell_type": "code",
   "execution_count": null,
   "id": "8c66b8b7",
   "metadata": {},
   "outputs": [],
   "source": [
    "# if use GPU, incrase batch size\n",
    "# batchsize = 2 ; gpu_off()\n",
    "batchsize = 64"
   ]
  },
  {
   "cell_type": "code",
   "execution_count": null,
   "id": "760158bc",
   "metadata": {},
   "outputs": [],
   "source": [
    "from sklearn.model_selection import train_test_split\n",
    "\n",
    "# split\n",
    "X = df[df.columns.values[:-1]]\n",
    "y = np.array(df[df.columns.values[-1]]).reshape(-1, 1)\n",
    "\n",
    "X_train, X_test, y_train, y_test = train_test_split(X, y, test_size=0.3)\n",
    "print(X_train.shape, X_test.shape, y_train.shape, y_test.shape)"
   ]
  },
  {
   "cell_type": "code",
   "execution_count": null,
   "id": "1a70ca8f",
   "metadata": {},
   "outputs": [],
   "source": [
    "# https://www.h2kinfosys.com/blog/linear-regression-with-keras-on-tensorflow/\n",
    "\n",
    "#rescale the data to be robust to outliers\n",
    "from sklearn.preprocessing import RobustScaler\n",
    "\n",
    "scaler = RobustScaler()\n",
    "scaler.fit(X_train)\n",
    "X_train = scaler.transform(X_train)\n",
    "X_test = scaler.transform(X_test)"
   ]
  },
  {
   "cell_type": "markdown",
   "id": "2f405f60",
   "metadata": {},
   "source": [
    "# TO TRY -- lower start for learning rate\n",
    "\n",
    "# TO TRY -- more aggressive dropout?\n",
    "\n",
    "# TO TRY -- reset optimizer"
   ]
  },
  {
   "cell_type": "code",
   "execution_count": null,
   "id": "3b45b4df",
   "metadata": {},
   "outputs": [],
   "source": [
    "# build the neural network architecture\n",
    "from keras.regularizers import l2\n",
    "from keras.models import Sequential\n",
    "from keras.layers import Dense, Dropout\n",
    "\n",
    "model = Sequential()\n",
    "\n",
    "model.add(Dense(256, input_dim=X_train.shape[1], kernel_regularizer=l2(0.001), activation='relu'))\n",
    "model.add(Dropout(0.3))\n",
    "model.add(Dense(125, kernel_regularizer=l2(0.001), activation='relu'))\n",
    "model.add(Dropout(0.3))\n",
    "model.add(Dense(1, activation='linear'))  \n",
    "\n",
    "model.compile(optimizer='adam', loss='mse', metrics=['mae'])\n",
    "# model.compile(optimizer='rmsprop', loss='mse', metrics=['mae'])"
   ]
  },
  {
   "cell_type": "code",
   "execution_count": null,
   "id": "5bb5d967",
   "metadata": {},
   "outputs": [],
   "source": [
    "# https://towardsdatascience.com/learning-rate-schedule-in-practice-an-example-with-keras-and-tensorflow-2-0-2f48b2888a0c\n",
    "from tensorflow.keras.callbacks import LearningRateScheduler\n",
    "import math\n",
    "\n",
    "initial_learning_rate = 0.007\n",
    "def lr_step_decay(epoch, lr):\n",
    "    drop_rate = 0.8\n",
    "    epochs_drop = 5.0\n",
    "    return initial_learning_rate * math.pow(drop_rate, math.floor(epoch/epochs_drop))\n",
    "learning_rate_schedule=LearningRateScheduler(lr_step_decay, verbose=1)"
   ]
  },
  {
   "cell_type": "code",
   "execution_count": null,
   "id": "a3f1f340",
   "metadata": {},
   "outputs": [],
   "source": [
    "# https://towardsdatascience.com/a-practical-introduction-to-early-stopping-in-machine-learning-550ac88bc8fd\n",
    "from tensorflow.keras.callbacks import EarlyStopping\n",
    "early_stopping = EarlyStopping(\n",
    "    monitor='val_mae', \n",
    "    patience=8, \n",
    "    min_delta=0.01, \n",
    "    mode='min'\n",
    ")"
   ]
  },
  {
   "cell_type": "code",
   "execution_count": null,
   "id": "806b7a73",
   "metadata": {},
   "outputs": [],
   "source": [
    "# fit\n",
    "# history = model.fit(x=X_train, y=y_train, validation_split=0.2, batch_size=32, epochs=100, verbose=1)\n",
    "history = model.fit(\n",
    "    x=X_train, \n",
    "    y=y_train, \n",
    "    validation_split=0.2, \n",
    "    batch_size=batchsize, \n",
    "    epochs=100, \n",
    "    verbose=0,\n",
    "    callbacks=[early_stopping, learning_rate_schedule])"
   ]
  },
  {
   "cell_type": "code",
   "execution_count": null,
   "id": "1a99072e",
   "metadata": {},
   "outputs": [],
   "source": [
    "import matplotlib.pyplot as plt\n",
    "# evaluate\n",
    "# summarize history for accuracy\n",
    "plt.plot(history.history['mae'])\n",
    "plt.plot(history.history['val_mae'])\n",
    "plt.title('model mae')\n",
    "plt.ylabel('mae')\n",
    "plt.xlabel('epoch')\n",
    "plt.legend(['train', 'test'], loc='upper left')\n",
    "plt.show()\n",
    "# summarize history for loss\n",
    "plt.plot(history.history['loss'])\n",
    "plt.plot(history.history['val_loss'])\n",
    "plt.title('model loss')\n",
    "plt.ylabel('loss')\n",
    "plt.xlabel('epoch')\n",
    "plt.legend(['train', 'test'], loc='upper left')\n",
    "plt.show()"
   ]
  }
 ],
 "metadata": {
  "kernelspec": {
   "display_name": "Python [conda env:tensorflow]",
   "language": "python",
   "name": "conda-env-tensorflow-py"
  },
  "language_info": {
   "codemirror_mode": {
    "name": "ipython",
    "version": 3
   },
   "file_extension": ".py",
   "mimetype": "text/x-python",
   "name": "python",
   "nbconvert_exporter": "python",
   "pygments_lexer": "ipython3",
   "version": "3.9.5"
  }
 },
 "nbformat": 4,
 "nbformat_minor": 5
}
