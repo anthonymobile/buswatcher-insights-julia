{
 "cells": [
  {
   "cell_type": "code",
   "execution_count": 1,
   "id": "cbdaa3d3",
   "metadata": {},
   "outputs": [],
   "source": [
    "# route = \"M15\""
   ]
  },
  {
   "cell_type": "code",
   "execution_count": 2,
   "id": "9e6c0e88",
   "metadata": {},
   "outputs": [],
   "source": [
    "# import Pkg\n",
    "# Pkg.add(\"CSV\")\n",
    "# Pkg.add(\"DataFrames\")\n",
    "# Pkg.add(\"DataConvenience\")\n",
    "# Pkg.add(\"Parquet\")\n",
    "# Pkg.add(\"HDF5\")\n",
    "# Pkg.add(\"JuliaDB\")"
   ]
  },
  {
   "cell_type": "raw",
   "id": "cecf29c2",
   "metadata": {},
   "source": [
    "IN-MEMORY VERSION (DOESNT WORK WELL)\n",
    "https://discourse.julialang.org/t/converting-csv-to-parquet-in-julia/57328"
   ]
  },
  {
   "cell_type": "code",
   "execution_count": 3,
   "id": "5e854589",
   "metadata": {},
   "outputs": [],
   "source": [
    "# using CSV\n",
    "# using DataFrames\n",
    "\n",
    "# df = CSV.read(\"data/nyc_buses_with_passenger_counts_20210401_20210630.csv\", missingstring=\"\\\\N\\\", DataFrame)\n",
    "\n",
    "# # filter out rows without our route\n",
    "# df = filter(row -> row.route_short != route, df)\n",
    "\n",
    "# # write parquet\n",
    "# using Parquet\n",
    "# file = \"data/nyc_buses_with_passenger_counts_20210401_20210630_$route.julia.parquet\"\n",
    "# write_parquet(file, df)"
   ]
  },
  {
   "cell_type": "markdown",
   "id": "f35e0205",
   "metadata": {},
   "source": [
    "## STREAMING VERSION"
   ]
  },
  {
   "cell_type": "raw",
   "id": "2de1c753",
   "metadata": {},
   "source": [
    "Using CsvChunkIterator\n",
    "https://github.com/xiaodaigh/DataConvenience.jl \n",
    "\n",
    "Lots of ideas in here\n",
    "https://discourse.julialang.org/t/struggling-with-julia-and-large-datasets/56916/7?page=3\n",
    "\n",
    "and here\n",
    "https://www.juliafordatascience.com/big-csvs/"
   ]
  },
  {
   "cell_type": "code",
   "execution_count": 4,
   "id": "bfd63b3e",
   "metadata": {},
   "outputs": [
    {
     "name": "stdout",
     "output_type": "stream",
     "text": [
      "Extracted 1000000 rows in chunk 0\n",
      "Extracted 1000000 rows in chunk 1\n",
      "Extracted 1000000 rows in chunk 2\n",
      "Extracted 1000000 rows in chunk 3\n",
      "Extracted 1000000 rows in chunk 4\n",
      "Extracted 1000000 rows in chunk 5\n",
      "Extracted 1000000 rows in chunk 6\n",
      "Extracted 1000000 rows in chunk 7\n",
      "Extracted 1000000 rows in chunk 8\n",
      "Extracted 1000000 rows in chunk 9\n",
      "Extracted 1000000 rows in chunk 10\n",
      "Extracted 1000000 rows in chunk 11\n",
      "Extracted 1000000 rows in chunk 12\n",
      "Extracted 1000000 rows in chunk 13\n",
      "Extracted 1000000 rows in chunk 14\n",
      "Extracted 1000000 rows in chunk 15\n",
      "Extracted 1000000 rows in chunk 16\n",
      "Extracted 1000000 rows in chunk 17\n",
      "wrote to data/citywide_test_julia.parquet\n"
     ]
    },
    {
     "ename": "LoadError",
     "evalue": "\"Column whose `eltype` is String31 is not supported at this stage. \\nColumn whose `eltype` is Dates.Date is not supported at this stage. \\nColumn whose `eltype` is String7 is not supported at this stage. \\nColumn whose `eltype` is String15 is not supported at this stage. \\nColumn whose `eltype` is Union{Missing, String15} is not supported at this stage. \\n\"",
     "output_type": "error",
     "traceback": [
      "\"Column whose `eltype` is String31 is not supported at this stage. \\nColumn whose `eltype` is Dates.Date is not supported at this stage. \\nColumn whose `eltype` is String7 is not supported at this stage. \\nColumn whose `eltype` is String15 is not supported at this stage. \\nColumn whose `eltype` is Union{Missing, String15} is not supported at this stage. \\n\"",
      "",
      "Stacktrace:",
      " [1] write_parquet(io::IOStream, x::DataFrame; compression_codec::String)",
      "   @ Parquet ~/.julia/packages/Parquet/O0PXc/src/writer.jl:476",
      " [2] #91",
      "   @ ~/.julia/packages/Parquet/O0PXc/src/writer.jl:526 [inlined]",
      " [3] open(::Parquet.var\"#91#92\"{String, DataFrame}, ::String, ::Vararg{String}; kwargs::Base.Pairs{Symbol, Union{}, Tuple{}, NamedTuple{(), Tuple{}}})",
      "   @ Base ./io.jl:330",
      " [4] open",
      "   @ ./io.jl:328 [inlined]",
      " [5] #write_parquet#90",
      "   @ ~/.julia/packages/Parquet/O0PXc/src/writer.jl:525 [inlined]",
      " [6] write_parquet(path::String, x::DataFrame)",
      "   @ Parquet ~/.julia/packages/Parquet/O0PXc/src/writer.jl:525",
      " [7] top-level scope",
      "   @ In[4]:30",
      " [8] eval",
      "   @ ./boot.jl:373 [inlined]",
      " [9] include_string(mapexpr::typeof(REPL.softscope), mod::Module, code::String, filename::String)",
      "   @ Base ./loading.jl:1196"
     ]
    }
   ],
   "source": [
    "using DataFrames\n",
    "using CSV\n",
    "using DataConvenience\n",
    "using Parquet\n",
    "\n",
    "filepath = \"data/nyc_buses_with_passenger_counts_20210401_20210630.csv\"\n",
    "\n",
    "master_df = DataFrame()\n",
    "\n",
    "i=0\n",
    "\n",
    "for chunk in CsvChunkIterator(filepath, missingstring=\"\\\\N\", limit=1000000)\n",
    "    \n",
    "    # \n",
    "#     # filter out rows without our route\n",
    "#     chunk = filter(row -> row.route_short == route, chunk)\n",
    "    n = nrow(chunk)\n",
    "    println(\"Extracted $n rows in chunk $i\")\n",
    "    \n",
    "    # concatenate to the master df\n",
    "    master_df  = vcat(master_df, chunk)\n",
    "    \n",
    "    i += 1\n",
    "    \n",
    "end"
   ]
  },
  {
   "cell_type": "code",
   "execution_count": 11,
   "id": "d7a8099e",
   "metadata": {},
   "outputs": [
    {
     "data": {
      "text/html": [
       "<div class=\"data-frame\"><p>13 rows × 7 columns (omitted printing of 2 columns)</p><table class=\"data-frame\"><thead><tr><th></th><th>variable</th><th>mean</th><th>min</th><th>median</th><th>max</th></tr><tr><th></th><th title=\"Symbol\">Symbol</th><th title=\"Union{Nothing, Float64}\">Union…</th><th title=\"Any\">Any</th><th title=\"Any\">Any</th><th title=\"Any\">Any</th></tr></thead><tbody><tr><th>1</th><td>timestamp</td><td></td><td>2021-03-31 23:58:17</td><td></td><td>2021-07-01 04:58:17</td></tr><tr><th>2</th><td>service_date</td><td></td><td>2021-04-01</td><td>2021-05-17</td><td>2021-06-30</td></tr><tr><th>3</th><td>hour</td><td>11.7952</td><td>0</td><td>11.0</td><td>23</td></tr><tr><th>4</th><td>minute</td><td>29.3036</td><td>0</td><td>29.0</td><td>59</td></tr><tr><th>5</th><td>route_short</td><td></td><td>B1</td><td></td><td>X68</td></tr><tr><th>6</th><td>direction</td><td>0.500526</td><td>0</td><td>1.0</td><td>1</td></tr><tr><th>7</th><td>vehicle_id</td><td></td><td>MTA NYCT_1000</td><td></td><td>MTA NYCT_9721</td></tr><tr><th>8</th><td>lat</td><td>40.7278</td><td>40.5029</td><td>40.7169</td><td>40.9124</td></tr><tr><th>9</th><td>lon</td><td>-73.9284</td><td>-74.2523</td><td>-73.9344</td><td>-73.7012</td></tr><tr><th>10</th><td>next_stop_id</td><td></td><td>MTA_100014</td><td></td><td>MTA_999999</td></tr><tr><th>11</th><td>next_stop_d</td><td>287.826</td><td>0.0</td><td>89.53</td><td>41554.3</td></tr><tr><th>12</th><td>next_stop_d_along_route</td><td>6731.53</td><td>0.0</td><td>5614.78</td><td>54771.1</td></tr><tr><th>13</th><td>passenger_count</td><td>9.39977</td><td>1</td><td>7.0</td><td>110</td></tr></tbody></table></div>"
      ],
      "text/latex": [
       "\\begin{tabular}{r|cccccc}\n",
       "\t& variable & mean & min & median & max & \\\\\n",
       "\t\\hline\n",
       "\t& Symbol & Union… & Any & Any & Any & \\\\\n",
       "\t\\hline\n",
       "\t1 & timestamp &  & 2021-03-31 23:58:17 &  & 2021-07-01 04:58:17 & $\\dots$ \\\\\n",
       "\t2 & service\\_date &  & 2021-04-01 & 2021-05-17 & 2021-06-30 & $\\dots$ \\\\\n",
       "\t3 & hour & 11.7952 & 0 & 11.0 & 23 & $\\dots$ \\\\\n",
       "\t4 & minute & 29.3036 & 0 & 29.0 & 59 & $\\dots$ \\\\\n",
       "\t5 & route\\_short &  & B1 &  & X68 & $\\dots$ \\\\\n",
       "\t6 & direction & 0.500526 & 0 & 1.0 & 1 & $\\dots$ \\\\\n",
       "\t7 & vehicle\\_id &  & MTA NYCT\\_1000 &  & MTA NYCT\\_9721 & $\\dots$ \\\\\n",
       "\t8 & lat & 40.7278 & 40.5029 & 40.7169 & 40.9124 & $\\dots$ \\\\\n",
       "\t9 & lon & -73.9284 & -74.2523 & -73.9344 & -73.7012 & $\\dots$ \\\\\n",
       "\t10 & next\\_stop\\_id &  & MTA\\_100014 &  & MTA\\_999999 & $\\dots$ \\\\\n",
       "\t11 & next\\_stop\\_d & 287.826 & 0.0 & 89.53 & 41554.3 & $\\dots$ \\\\\n",
       "\t12 & next\\_stop\\_d\\_along\\_route & 6731.53 & 0.0 & 5614.78 & 54771.1 & $\\dots$ \\\\\n",
       "\t13 & passenger\\_count & 9.39977 & 1 & 7.0 & 110 & $\\dots$ \\\\\n",
       "\\end{tabular}\n"
      ],
      "text/plain": [
       "\u001b[1m13×7 DataFrame\u001b[0m\n",
       "\u001b[1m Row \u001b[0m│\u001b[1m variable                \u001b[0m\u001b[1m mean     \u001b[0m\u001b[1m min                 \u001b[0m\u001b[1m median     \u001b[0m\u001b[1m max\u001b[0m ⋯\n",
       "\u001b[1m     \u001b[0m│\u001b[90m Symbol                  \u001b[0m\u001b[90m Union…   \u001b[0m\u001b[90m Any                 \u001b[0m\u001b[90m Any        \u001b[0m\u001b[90m Any\u001b[0m ⋯\n",
       "─────┼──────────────────────────────────────────────────────────────────────────\n",
       "   1 │ timestamp               \u001b[90m          \u001b[0m 2021-03-31 23:58:17 \u001b[90m            \u001b[0m 202 ⋯\n",
       "   2 │ service_date            \u001b[90m          \u001b[0m 2021-04-01           2021-05-17  202\n",
       "   3 │ hour                     11.7952   0                    11.0        23\n",
       "   4 │ minute                   29.3036   0                    29.0        59\n",
       "   5 │ route_short             \u001b[90m          \u001b[0m B1                  \u001b[90m            \u001b[0m X68 ⋯\n",
       "   6 │ direction                0.500526  0                    1.0         1\n",
       "   7 │ vehicle_id              \u001b[90m          \u001b[0m MTA NYCT_1000       \u001b[90m            \u001b[0m MTA\n",
       "   8 │ lat                      40.7278   40.5029              40.7169     40.\n",
       "   9 │ lon                      -73.9284  -74.2523             -73.9344    -73 ⋯\n",
       "  10 │ next_stop_id            \u001b[90m          \u001b[0m MTA_100014          \u001b[90m            \u001b[0m MTA\n",
       "  11 │ next_stop_d              287.826   0.0                  89.53       415\n",
       "  12 │ next_stop_d_along_route  6731.53   0.0                  5614.78     547\n",
       "  13 │ passenger_count          9.39977   1                    7.0         110 ⋯\n",
       "\u001b[36m                                                               3 columns omitted\u001b[0m"
      ]
     },
     "execution_count": 11,
     "metadata": {},
     "output_type": "execute_result"
    }
   ],
   "source": [
    "describe(master_df)"
   ]
  },
  {
   "cell_type": "markdown",
   "id": "9f08ed23",
   "metadata": {},
   "source": [
    "# TODO fix data types"
   ]
  },
  {
   "cell_type": "code",
   "execution_count": 15,
   "id": "29853287",
   "metadata": {},
   "outputs": [
    {
     "data": {
      "text/html": [
       "<div class=\"data-frame\"><p>1 rows × 13 columns (omitted printing of 6 columns)</p><table class=\"data-frame\"><thead><tr><th></th><th>timestamp</th><th>service_date</th><th>hour</th><th>minute</th><th>route_short</th><th>direction</th><th>vehicle_id</th></tr><tr><th></th><th title=\"DataType\">DataType</th><th title=\"DataType\">DataType</th><th title=\"DataType\">DataType</th><th title=\"DataType\">DataType</th><th title=\"DataType\">DataType</th><th title=\"DataType\">DataType</th><th title=\"DataType\">DataType</th></tr></thead><tbody><tr><th>1</th><td>String31</td><td>Date</td><td>Int64</td><td>Int64</td><td>String7</td><td>Int64</td><td>String15</td></tr></tbody></table></div>"
      ],
      "text/latex": [
       "\\begin{tabular}{r|cccccccc}\n",
       "\t& timestamp & service\\_date & hour & minute & route\\_short & direction & vehicle\\_id & \\\\\n",
       "\t\\hline\n",
       "\t& DataType & DataType & DataType & DataType & DataType & DataType & DataType & \\\\\n",
       "\t\\hline\n",
       "\t1 & String31 & Date & Int64 & Int64 & String7 & Int64 & String15 & $\\dots$ \\\\\n",
       "\\end{tabular}\n"
      ],
      "text/plain": [
       "\u001b[1m1×13 DataFrame\u001b[0m\n",
       "\u001b[1m Row \u001b[0m│\u001b[1m timestamp \u001b[0m\u001b[1m service_date \u001b[0m\u001b[1m hour     \u001b[0m\u001b[1m minute   \u001b[0m\u001b[1m route_short \u001b[0m\u001b[1m direction \u001b[0m\u001b[1m ve\u001b[0m ⋯\n",
       "\u001b[1m     \u001b[0m│\u001b[90m DataType  \u001b[0m\u001b[90m DataType     \u001b[0m\u001b[90m DataType \u001b[0m\u001b[90m DataType \u001b[0m\u001b[90m DataType    \u001b[0m\u001b[90m DataType  \u001b[0m\u001b[90m Da\u001b[0m ⋯\n",
       "─────┼──────────────────────────────────────────────────────────────────────────\n",
       "   1 │ String31   Date          Int64     Int64     String7      Int64      St ⋯\n",
       "\u001b[36m                                                               7 columns omitted\u001b[0m"
      ]
     },
     "execution_count": 15,
     "metadata": {},
     "output_type": "execute_result"
    }
   ],
   "source": [
    "mapcols(eltype, master_df)"
   ]
  },
  {
   "cell_type": "code",
   "execution_count": null,
   "id": "2e8f9177",
   "metadata": {},
   "outputs": [],
   "source": [
    "# write to a new file\n",
    "file = string(\"data/citywide_test_julia.parquet\")\n",
    "print(\"wrote to $file\\n\")\n",
    "write_parquet(file, master_df)"
   ]
  },
  {
   "cell_type": "code",
   "execution_count": null,
   "id": "5dfef4b0",
   "metadata": {},
   "outputs": [],
   "source": []
  }
 ],
 "metadata": {
  "kernelspec": {
   "display_name": "Julia 1.7.1",
   "language": "julia",
   "name": "julia-1.7"
  },
  "language_info": {
   "file_extension": ".jl",
   "mimetype": "application/julia",
   "name": "julia",
   "version": "1.7.1"
  }
 },
 "nbformat": 4,
 "nbformat_minor": 5
}
