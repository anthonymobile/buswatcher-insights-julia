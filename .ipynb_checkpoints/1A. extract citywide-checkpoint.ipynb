{
 "cells": [
  {
   "cell_type": "markdown",
   "id": "0d99362a",
   "metadata": {
    "tags": []
   },
   "source": [
    "# Extract ALL clean routes from citywide 3-month dump"
   ]
  },
  {
   "cell_type": "markdown",
   "id": "a5ed821c",
   "metadata": {},
   "source": [
    "#### PREPARING THE CITYWIDE CSV FILE\n",
    "\n",
    "1. Dump a CSV from `buses_merged` in the local database using\n",
    "\n",
    "```\n",
    "SELECT timestamp, service_date, hour(timestamp), minute(timestamp), route_short, direction, vehicle_id, lat, lon, next_stop_id, next_stop_d, next_stop_d_along_route, passenger_count\n",
    "FROM buses_merged\n",
    "WHERE service_date\n",
    "BETWEEN '2021-04-01' AND '2021-06-30'\n",
    "INTO OUTFILE '/Users/anthonytownsend/PyCharm Projects/tmp/nn_dump.csv'\n",
    "FIELDS TERMINATED BY ','\n",
    "ENCLOSED BY '\"'\n",
    "LINES TERMINATED BY '\\n';\n",
    "```\n",
    "\n",
    "2. Create the following file...\n",
    "\n",
    "```\n",
    "header.csv\n",
    "\n",
    "timestamp,service_date,hour,minute,route_short,direction,vehicle_id,lat,lon,next_stop_id,next_stop_d,next_stop_d_along_route,passenger_count\n",
    "```\n",
    "\n",
    "3. ...and cat it onto the CSV into the notebook data dir.\n",
    "\n",
    "```\n",
    "cat header.csv nn_dump.csv > /Users/anthonytownsend/Desktop/_code/notebooks/passenger_pred/data/nyc_buses_with_passenger_counts_20210401_20210630.csv\n",
    "\n",
    "```\n",
    "4. Then run this notebook from top to bottom!"
   ]
  },
  {
   "cell_type": "code",
   "execution_count": 1,
   "id": "17c721e4",
   "metadata": {},
   "outputs": [],
   "source": [
    "import pandas as pd"
   ]
  },
  {
   "cell_type": "markdown",
   "id": "dc601b7c",
   "metadata": {},
   "source": [
    "# Create single route parquet table (run once then comment out)"
   ]
  },
  {
   "cell_type": "code",
   "execution_count": 2,
   "id": "bcdd0535",
   "metadata": {},
   "outputs": [],
   "source": [
    "def loadcsv_and_clean():\n",
    "    df_tmp = pd.read_csv('data/nyc_buses_with_passenger_counts_20210401_20210630.csv')\n",
    "    \n",
    "    ## OMITTED FOR CITYWIDE\n",
    "    ## select one route\n",
    "    # df_tmp = df_tmp.loc[df_tmp['route_short'] == route]\n",
    "\n",
    "    # convert both date columns to datetime\n",
    "    df_tmp['timestamp']=pd.to_datetime(df_tmp['timestamp'])\n",
    "    df_tmp['service_date']=pd.to_datetime(df_tmp['service_date'])\n",
    "\n",
    "    # strip MTA NYCT_ from vehicle id\n",
    "    df_tmp[\"vehicle_id\"]=df_tmp[\"vehicle_id\"].str[9:]\n",
    "    \n",
    "    # dump to parquet for faster access later\n",
    "    # df_tmp.to_parquet(f'data/nyc_buses_with_passenger_counts_20210401_20210630_citywide.parquet')\n",
    "    df_tmp.to_feather(f'data/nyc_buses_with_passenger_counts_20210401_20210630_citywide.feather')\n",
    "    df_tmp.shape\n",
    "    \n",
    "# loadcsv_and_clean()"
   ]
  },
  {
   "cell_type": "markdown",
   "id": "2f817c73",
   "metadata": {},
   "source": [
    "## load table"
   ]
  },
  {
   "cell_type": "code",
   "execution_count": 3,
   "id": "53c0e791",
   "metadata": {},
   "outputs": [
    {
     "data": {
      "text/plain": [
       "(159400840, 13)"
      ]
     },
     "execution_count": 3,
     "metadata": {},
     "output_type": "execute_result"
    }
   ],
   "source": [
    "df = pd.read_feather(f'data/nyc_buses_with_passenger_counts_20210401_20210630_citywide.feather')\n",
    "df.shape"
   ]
  },
  {
   "cell_type": "markdown",
   "id": "099ade7d",
   "metadata": {},
   "source": [
    "# downsample data"
   ]
  },
  {
   "cell_type": "code",
   "execution_count": 4,
   "id": "12bcd7b1",
   "metadata": {},
   "outputs": [],
   "source": [
    "df = df.sample(frac=0.1, random_state=1)"
   ]
  },
  {
   "cell_type": "markdown",
   "id": "95246234",
   "metadata": {},
   "source": [
    "## Clean up next_stop fields"
   ]
  },
  {
   "cell_type": "code",
   "execution_count": 5,
   "id": "0a1dbc53",
   "metadata": {},
   "outputs": [],
   "source": [
    "def next_stop_id(row):\n",
    "    if row.next_stop_id == \"\\\\N\":\n",
    "        return None\n",
    "    else:\n",
    "        return row.next_stop_id\n",
    "df['next_stop_id'] = df.apply(lambda row : next_stop_id(row), axis = 1)"
   ]
  },
  {
   "cell_type": "code",
   "execution_count": 6,
   "id": "714f5390",
   "metadata": {},
   "outputs": [],
   "source": [
    "def next_stop_d(row):\n",
    "    if row.next_stop_d == \"\\\\N\":\n",
    "        return None\n",
    "    else:\n",
    "        return row.next_stop_d\n",
    "df['next_stop_d'] = df.apply(lambda row : next_stop_d(row), axis = 1)\n",
    "df[\"next_stop_d\"] = pd.to_numeric(df[\"next_stop_d\"])"
   ]
  },
  {
   "cell_type": "code",
   "execution_count": 7,
   "id": "7c718f6f",
   "metadata": {},
   "outputs": [],
   "source": [
    "def next_stop_d_along_route(row):\n",
    "    if row.next_stop_d_along_route == \"\\\\N\":\n",
    "        return None\n",
    "    else:\n",
    "        return row.next_stop_d_along_route\n",
    "df['next_stop_d_along_route'] = df.apply(lambda row : next_stop_d_along_route(row), axis = 1)\n",
    "df[\"next_stop_d_along_route\"] = pd.to_numeric(df[\"next_stop_d_along_route\"])"
   ]
  },
  {
   "cell_type": "code",
   "execution_count": 8,
   "id": "3c3b591b",
   "metadata": {},
   "outputs": [
    {
     "data": {
      "text/html": [
       "<div>\n",
       "<style scoped>\n",
       "    .dataframe tbody tr th:only-of-type {\n",
       "        vertical-align: middle;\n",
       "    }\n",
       "\n",
       "    .dataframe tbody tr th {\n",
       "        vertical-align: top;\n",
       "    }\n",
       "\n",
       "    .dataframe thead th {\n",
       "        text-align: right;\n",
       "    }\n",
       "</style>\n",
       "<table border=\"1\" class=\"dataframe\">\n",
       "  <thead>\n",
       "    <tr style=\"text-align: right;\">\n",
       "      <th></th>\n",
       "      <th>timestamp</th>\n",
       "      <th>service_date</th>\n",
       "      <th>hour</th>\n",
       "      <th>minute</th>\n",
       "      <th>route_short</th>\n",
       "      <th>direction</th>\n",
       "      <th>vehicle_id</th>\n",
       "      <th>lat</th>\n",
       "      <th>lon</th>\n",
       "      <th>next_stop_id</th>\n",
       "      <th>next_stop_d</th>\n",
       "      <th>next_stop_d_along_route</th>\n",
       "      <th>passenger_count</th>\n",
       "    </tr>\n",
       "  </thead>\n",
       "  <tbody>\n",
       "    <tr>\n",
       "      <th>92932343</th>\n",
       "      <td>2021-06-24 21:10:19</td>\n",
       "      <td>2021-06-24</td>\n",
       "      <td>21</td>\n",
       "      <td>10</td>\n",
       "      <td>Bx15</td>\n",
       "      <td>1</td>\n",
       "      <td>5346</td>\n",
       "      <td>40.8274</td>\n",
       "      <td>-73.9074</td>\n",
       "      <td>MTA_101060</td>\n",
       "      <td>575.58</td>\n",
       "      <td>4630.78</td>\n",
       "      <td>\\N</td>\n",
       "    </tr>\n",
       "    <tr>\n",
       "      <th>72922656</th>\n",
       "      <td>2021-06-13 23:03:22</td>\n",
       "      <td>2021-06-13</td>\n",
       "      <td>23</td>\n",
       "      <td>3</td>\n",
       "      <td>B44</td>\n",
       "      <td>0</td>\n",
       "      <td>7333</td>\n",
       "      <td>40.6332</td>\n",
       "      <td>-73.9477</td>\n",
       "      <td>MTA_303381</td>\n",
       "      <td>119.49</td>\n",
       "      <td>6378.95</td>\n",
       "      <td>4</td>\n",
       "    </tr>\n",
       "    <tr>\n",
       "      <th>77006661</th>\n",
       "      <td>2021-06-16 05:12:29</td>\n",
       "      <td>2021-06-16</td>\n",
       "      <td>5</td>\n",
       "      <td>12</td>\n",
       "      <td>B37</td>\n",
       "      <td>1</td>\n",
       "      <td>745</td>\n",
       "      <td>40.6660</td>\n",
       "      <td>-73.9955</td>\n",
       "      <td>MTA_308747</td>\n",
       "      <td>289.47</td>\n",
       "      <td>2841.76</td>\n",
       "      <td>\\N</td>\n",
       "    </tr>\n",
       "    <tr>\n",
       "      <th>58270661</th>\n",
       "      <td>2021-06-04 22:30:07</td>\n",
       "      <td>2021-06-04</td>\n",
       "      <td>22</td>\n",
       "      <td>30</td>\n",
       "      <td>M21</td>\n",
       "      <td>0</td>\n",
       "      <td>6740</td>\n",
       "      <td>40.7278</td>\n",
       "      <td>-74.0031</td>\n",
       "      <td>MTA_402022</td>\n",
       "      <td>84.42</td>\n",
       "      <td>749.47</td>\n",
       "      <td>\\N</td>\n",
       "    </tr>\n",
       "    <tr>\n",
       "      <th>69892715</th>\n",
       "      <td>2021-06-11 17:16:09</td>\n",
       "      <td>2021-06-11</td>\n",
       "      <td>17</td>\n",
       "      <td>16</td>\n",
       "      <td>B82</td>\n",
       "      <td>0</td>\n",
       "      <td>7130</td>\n",
       "      <td>40.5987</td>\n",
       "      <td>-73.9971</td>\n",
       "      <td>MTA_300428</td>\n",
       "      <td>246.96</td>\n",
       "      <td>3355.09</td>\n",
       "      <td>10</td>\n",
       "    </tr>\n",
       "    <tr>\n",
       "      <th>95133709</th>\n",
       "      <td>2021-06-26 07:54:28</td>\n",
       "      <td>2021-06-26</td>\n",
       "      <td>7</td>\n",
       "      <td>54</td>\n",
       "      <td>Bx19</td>\n",
       "      <td>1</td>\n",
       "      <td>5963</td>\n",
       "      <td>40.8377</td>\n",
       "      <td>-73.8876</td>\n",
       "      <td>MTA_101352</td>\n",
       "      <td>28.77</td>\n",
       "      <td>2792.65</td>\n",
       "      <td>\\N</td>\n",
       "    </tr>\n",
       "    <tr>\n",
       "      <th>68102993</th>\n",
       "      <td>2021-06-10 17:56:07</td>\n",
       "      <td>2021-06-10</td>\n",
       "      <td>17</td>\n",
       "      <td>56</td>\n",
       "      <td>Bx4</td>\n",
       "      <td>1</td>\n",
       "      <td>5484</td>\n",
       "      <td>40.8282</td>\n",
       "      <td>-73.8846</td>\n",
       "      <td>MTA_100259</td>\n",
       "      <td>194.65</td>\n",
       "      <td>4369.20</td>\n",
       "      <td>\\N</td>\n",
       "    </tr>\n",
       "    <tr>\n",
       "      <th>29392032</th>\n",
       "      <td>2021-05-19 15:55:20</td>\n",
       "      <td>2021-05-19</td>\n",
       "      <td>15</td>\n",
       "      <td>55</td>\n",
       "      <td>M3</td>\n",
       "      <td>1</td>\n",
       "      <td>4404</td>\n",
       "      <td>40.7935</td>\n",
       "      <td>-73.9517</td>\n",
       "      <td>MTA_400110</td>\n",
       "      <td>60.15</td>\n",
       "      <td>8843.07</td>\n",
       "      <td>\\N</td>\n",
       "    </tr>\n",
       "    <tr>\n",
       "      <th>128957137</th>\n",
       "      <td>2021-04-15 17:56:21</td>\n",
       "      <td>2021-04-15</td>\n",
       "      <td>17</td>\n",
       "      <td>56</td>\n",
       "      <td>B37</td>\n",
       "      <td>1</td>\n",
       "      <td>427</td>\n",
       "      <td>40.6687</td>\n",
       "      <td>-73.9933</td>\n",
       "      <td>None</td>\n",
       "      <td>NaN</td>\n",
       "      <td>NaN</td>\n",
       "      <td>\\N</td>\n",
       "    </tr>\n",
       "    <tr>\n",
       "      <th>52089571</th>\n",
       "      <td>2021-06-01 18:41:53</td>\n",
       "      <td>2021-06-01</td>\n",
       "      <td>18</td>\n",
       "      <td>41</td>\n",
       "      <td>B8</td>\n",
       "      <td>1</td>\n",
       "      <td>444</td>\n",
       "      <td>40.6194</td>\n",
       "      <td>-73.9899</td>\n",
       "      <td>MTA_300900</td>\n",
       "      <td>158.34</td>\n",
       "      <td>10155.10</td>\n",
       "      <td>\\N</td>\n",
       "    </tr>\n",
       "    <tr>\n",
       "      <th>143445161</th>\n",
       "      <td>2021-04-23 16:05:27</td>\n",
       "      <td>2021-04-23</td>\n",
       "      <td>16</td>\n",
       "      <td>5</td>\n",
       "      <td>Bx8</td>\n",
       "      <td>1</td>\n",
       "      <td>740</td>\n",
       "      <td>40.8429</td>\n",
       "      <td>-73.8447</td>\n",
       "      <td>None</td>\n",
       "      <td>NaN</td>\n",
       "      <td>NaN</td>\n",
       "      <td>\\N</td>\n",
       "    </tr>\n",
       "    <tr>\n",
       "      <th>154988871</th>\n",
       "      <td>2021-04-29 23:56:16</td>\n",
       "      <td>2021-04-29</td>\n",
       "      <td>23</td>\n",
       "      <td>56</td>\n",
       "      <td>B17</td>\n",
       "      <td>1</td>\n",
       "      <td>7790</td>\n",
       "      <td>40.6402</td>\n",
       "      <td>-73.9059</td>\n",
       "      <td>None</td>\n",
       "      <td>NaN</td>\n",
       "      <td>NaN</td>\n",
       "      <td>7</td>\n",
       "    </tr>\n",
       "    <tr>\n",
       "      <th>82295900</th>\n",
       "      <td>2021-06-18 17:16:15</td>\n",
       "      <td>2021-06-18</td>\n",
       "      <td>17</td>\n",
       "      <td>16</td>\n",
       "      <td>Q12</td>\n",
       "      <td>0</td>\n",
       "      <td>4724</td>\n",
       "      <td>40.7625</td>\n",
       "      <td>-73.7559</td>\n",
       "      <td>MTA_500883</td>\n",
       "      <td>560.52</td>\n",
       "      <td>6986.11</td>\n",
       "      <td>\\N</td>\n",
       "    </tr>\n",
       "    <tr>\n",
       "      <th>70827046</th>\n",
       "      <td>2021-06-12 10:51:11</td>\n",
       "      <td>2021-06-12</td>\n",
       "      <td>10</td>\n",
       "      <td>51</td>\n",
       "      <td>B46</td>\n",
       "      <td>1</td>\n",
       "      <td>4628</td>\n",
       "      <td>40.6090</td>\n",
       "      <td>-73.9215</td>\n",
       "      <td>MTA_901093</td>\n",
       "      <td>6.85</td>\n",
       "      <td>12929.60</td>\n",
       "      <td>\\N</td>\n",
       "    </tr>\n",
       "    <tr>\n",
       "      <th>126697500</th>\n",
       "      <td>2021-04-14 16:30:25</td>\n",
       "      <td>2021-04-14</td>\n",
       "      <td>16</td>\n",
       "      <td>30</td>\n",
       "      <td>B62</td>\n",
       "      <td>1</td>\n",
       "      <td>7212</td>\n",
       "      <td>40.7433</td>\n",
       "      <td>-73.9513</td>\n",
       "      <td>None</td>\n",
       "      <td>NaN</td>\n",
       "      <td>NaN</td>\n",
       "      <td>2</td>\n",
       "    </tr>\n",
       "    <tr>\n",
       "      <th>70017072</th>\n",
       "      <td>2021-06-11 18:14:16</td>\n",
       "      <td>2021-06-11</td>\n",
       "      <td>18</td>\n",
       "      <td>14</td>\n",
       "      <td>M15</td>\n",
       "      <td>1</td>\n",
       "      <td>6035</td>\n",
       "      <td>40.7995</td>\n",
       "      <td>-73.9359</td>\n",
       "      <td>MTA_401740</td>\n",
       "      <td>113.95</td>\n",
       "      <td>663.37</td>\n",
       "      <td>4</td>\n",
       "    </tr>\n",
       "    <tr>\n",
       "      <th>3155577</th>\n",
       "      <td>2021-05-05 07:22:17</td>\n",
       "      <td>2021-05-05</td>\n",
       "      <td>7</td>\n",
       "      <td>22</td>\n",
       "      <td>S52</td>\n",
       "      <td>1</td>\n",
       "      <td>7045</td>\n",
       "      <td>40.5952</td>\n",
       "      <td>-74.0752</td>\n",
       "      <td>MTA_200207</td>\n",
       "      <td>53.03</td>\n",
       "      <td>9599.10</td>\n",
       "      <td>\\N</td>\n",
       "    </tr>\n",
       "    <tr>\n",
       "      <th>122544650</th>\n",
       "      <td>2021-04-12 16:11:12</td>\n",
       "      <td>2021-04-12</td>\n",
       "      <td>16</td>\n",
       "      <td>11</td>\n",
       "      <td>Bx1</td>\n",
       "      <td>0</td>\n",
       "      <td>1289</td>\n",
       "      <td>40.8721</td>\n",
       "      <td>-73.8876</td>\n",
       "      <td>None</td>\n",
       "      <td>NaN</td>\n",
       "      <td>NaN</td>\n",
       "      <td>\\N</td>\n",
       "    </tr>\n",
       "    <tr>\n",
       "      <th>124383702</th>\n",
       "      <td>2021-04-13 14:38:22</td>\n",
       "      <td>2021-04-13</td>\n",
       "      <td>14</td>\n",
       "      <td>38</td>\n",
       "      <td>M55</td>\n",
       "      <td>1</td>\n",
       "      <td>3902</td>\n",
       "      <td>40.7518</td>\n",
       "      <td>-73.9821</td>\n",
       "      <td>None</td>\n",
       "      <td>NaN</td>\n",
       "      <td>NaN</td>\n",
       "      <td>\\N</td>\n",
       "    </tr>\n",
       "    <tr>\n",
       "      <th>68858677</th>\n",
       "      <td>2021-06-11 07:43:11</td>\n",
       "      <td>2021-06-11</td>\n",
       "      <td>7</td>\n",
       "      <td>43</td>\n",
       "      <td>Q54</td>\n",
       "      <td>1</td>\n",
       "      <td>7268</td>\n",
       "      <td>40.7111</td>\n",
       "      <td>-73.8709</td>\n",
       "      <td>MTA_551067</td>\n",
       "      <td>12.83</td>\n",
       "      <td>7508.89</td>\n",
       "      <td>6</td>\n",
       "    </tr>\n",
       "  </tbody>\n",
       "</table>\n",
       "</div>"
      ],
      "text/plain": [
       "                    timestamp service_date  hour  minute route_short  \\\n",
       "92932343  2021-06-24 21:10:19   2021-06-24    21      10        Bx15   \n",
       "72922656  2021-06-13 23:03:22   2021-06-13    23       3         B44   \n",
       "77006661  2021-06-16 05:12:29   2021-06-16     5      12         B37   \n",
       "58270661  2021-06-04 22:30:07   2021-06-04    22      30         M21   \n",
       "69892715  2021-06-11 17:16:09   2021-06-11    17      16         B82   \n",
       "95133709  2021-06-26 07:54:28   2021-06-26     7      54        Bx19   \n",
       "68102993  2021-06-10 17:56:07   2021-06-10    17      56         Bx4   \n",
       "29392032  2021-05-19 15:55:20   2021-05-19    15      55          M3   \n",
       "128957137 2021-04-15 17:56:21   2021-04-15    17      56         B37   \n",
       "52089571  2021-06-01 18:41:53   2021-06-01    18      41          B8   \n",
       "143445161 2021-04-23 16:05:27   2021-04-23    16       5         Bx8   \n",
       "154988871 2021-04-29 23:56:16   2021-04-29    23      56         B17   \n",
       "82295900  2021-06-18 17:16:15   2021-06-18    17      16         Q12   \n",
       "70827046  2021-06-12 10:51:11   2021-06-12    10      51         B46   \n",
       "126697500 2021-04-14 16:30:25   2021-04-14    16      30         B62   \n",
       "70017072  2021-06-11 18:14:16   2021-06-11    18      14         M15   \n",
       "3155577   2021-05-05 07:22:17   2021-05-05     7      22         S52   \n",
       "122544650 2021-04-12 16:11:12   2021-04-12    16      11         Bx1   \n",
       "124383702 2021-04-13 14:38:22   2021-04-13    14      38         M55   \n",
       "68858677  2021-06-11 07:43:11   2021-06-11     7      43         Q54   \n",
       "\n",
       "           direction vehicle_id      lat      lon next_stop_id  next_stop_d  \\\n",
       "92932343           1       5346  40.8274 -73.9074   MTA_101060       575.58   \n",
       "72922656           0       7333  40.6332 -73.9477   MTA_303381       119.49   \n",
       "77006661           1        745  40.6660 -73.9955   MTA_308747       289.47   \n",
       "58270661           0       6740  40.7278 -74.0031   MTA_402022        84.42   \n",
       "69892715           0       7130  40.5987 -73.9971   MTA_300428       246.96   \n",
       "95133709           1       5963  40.8377 -73.8876   MTA_101352        28.77   \n",
       "68102993           1       5484  40.8282 -73.8846   MTA_100259       194.65   \n",
       "29392032           1       4404  40.7935 -73.9517   MTA_400110        60.15   \n",
       "128957137          1        427  40.6687 -73.9933         None          NaN   \n",
       "52089571           1        444  40.6194 -73.9899   MTA_300900       158.34   \n",
       "143445161          1        740  40.8429 -73.8447         None          NaN   \n",
       "154988871          1       7790  40.6402 -73.9059         None          NaN   \n",
       "82295900           0       4724  40.7625 -73.7559   MTA_500883       560.52   \n",
       "70827046           1       4628  40.6090 -73.9215   MTA_901093         6.85   \n",
       "126697500          1       7212  40.7433 -73.9513         None          NaN   \n",
       "70017072           1       6035  40.7995 -73.9359   MTA_401740       113.95   \n",
       "3155577            1       7045  40.5952 -74.0752   MTA_200207        53.03   \n",
       "122544650          0       1289  40.8721 -73.8876         None          NaN   \n",
       "124383702          1       3902  40.7518 -73.9821         None          NaN   \n",
       "68858677           1       7268  40.7111 -73.8709   MTA_551067        12.83   \n",
       "\n",
       "           next_stop_d_along_route passenger_count  \n",
       "92932343                   4630.78              \\N  \n",
       "72922656                   6378.95               4  \n",
       "77006661                   2841.76              \\N  \n",
       "58270661                    749.47              \\N  \n",
       "69892715                   3355.09              10  \n",
       "95133709                   2792.65              \\N  \n",
       "68102993                   4369.20              \\N  \n",
       "29392032                   8843.07              \\N  \n",
       "128957137                      NaN              \\N  \n",
       "52089571                  10155.10              \\N  \n",
       "143445161                      NaN              \\N  \n",
       "154988871                      NaN               7  \n",
       "82295900                   6986.11              \\N  \n",
       "70827046                  12929.60              \\N  \n",
       "126697500                      NaN               2  \n",
       "70017072                    663.37               4  \n",
       "3155577                    9599.10              \\N  \n",
       "122544650                      NaN              \\N  \n",
       "124383702                      NaN              \\N  \n",
       "68858677                   7508.89               6  "
      ]
     },
     "execution_count": 8,
     "metadata": {},
     "output_type": "execute_result"
    }
   ],
   "source": [
    "df.sample(n=20)"
   ]
  },
  {
   "cell_type": "markdown",
   "id": "71ef2c33",
   "metadata": {},
   "source": [
    "## Cleanup vehicle_id"
   ]
  },
  {
   "cell_type": "code",
   "execution_count": 9,
   "id": "d4dfcf9e",
   "metadata": {},
   "outputs": [],
   "source": [
    "df[\"next_stop_id_cleaned\"]=df[\"next_stop_id\"].str[4:]"
   ]
  },
  {
   "cell_type": "code",
   "execution_count": 10,
   "id": "48b54869",
   "metadata": {},
   "outputs": [
    {
     "data": {
      "text/html": [
       "<div>\n",
       "<style scoped>\n",
       "    .dataframe tbody tr th:only-of-type {\n",
       "        vertical-align: middle;\n",
       "    }\n",
       "\n",
       "    .dataframe tbody tr th {\n",
       "        vertical-align: top;\n",
       "    }\n",
       "\n",
       "    .dataframe thead th {\n",
       "        text-align: right;\n",
       "    }\n",
       "</style>\n",
       "<table border=\"1\" class=\"dataframe\">\n",
       "  <thead>\n",
       "    <tr style=\"text-align: right;\">\n",
       "      <th></th>\n",
       "      <th>timestamp</th>\n",
       "      <th>service_date</th>\n",
       "      <th>hour</th>\n",
       "      <th>minute</th>\n",
       "      <th>route_short</th>\n",
       "      <th>direction</th>\n",
       "      <th>vehicle_id</th>\n",
       "      <th>lat</th>\n",
       "      <th>lon</th>\n",
       "      <th>next_stop_id</th>\n",
       "      <th>next_stop_d</th>\n",
       "      <th>next_stop_d_along_route</th>\n",
       "      <th>passenger_count</th>\n",
       "      <th>next_stop_id_cleaned</th>\n",
       "    </tr>\n",
       "  </thead>\n",
       "  <tbody>\n",
       "    <tr>\n",
       "      <th>140594608</th>\n",
       "      <td>2021-04-22 07:49:17</td>\n",
       "      <td>2021-04-22</td>\n",
       "      <td>7</td>\n",
       "      <td>49</td>\n",
       "      <td>Q88</td>\n",
       "      <td>0</td>\n",
       "      <td>6894</td>\n",
       "      <td>40.7393</td>\n",
       "      <td>-73.7632</td>\n",
       "      <td>None</td>\n",
       "      <td>NaN</td>\n",
       "      <td>NaN</td>\n",
       "      <td>\\N</td>\n",
       "      <td>None</td>\n",
       "    </tr>\n",
       "    <tr>\n",
       "      <th>45731545</th>\n",
       "      <td>2021-05-28 12:56:06</td>\n",
       "      <td>2021-05-28</td>\n",
       "      <td>12</td>\n",
       "      <td>56</td>\n",
       "      <td>M116</td>\n",
       "      <td>0</td>\n",
       "      <td>4011</td>\n",
       "      <td>40.8046</td>\n",
       "      <td>-73.9571</td>\n",
       "      <td>MTA_400394</td>\n",
       "      <td>37.38</td>\n",
       "      <td>1378.43</td>\n",
       "      <td>\\N</td>\n",
       "      <td>400394</td>\n",
       "    </tr>\n",
       "    <tr>\n",
       "      <th>118556355</th>\n",
       "      <td>2021-04-09 15:16:21</td>\n",
       "      <td>2021-04-09</td>\n",
       "      <td>15</td>\n",
       "      <td>16</td>\n",
       "      <td>Bx2</td>\n",
       "      <td>1</td>\n",
       "      <td>5965</td>\n",
       "      <td>40.8265</td>\n",
       "      <td>-73.9229</td>\n",
       "      <td>None</td>\n",
       "      <td>NaN</td>\n",
       "      <td>NaN</td>\n",
       "      <td>\\N</td>\n",
       "      <td>None</td>\n",
       "    </tr>\n",
       "    <tr>\n",
       "      <th>116827961</th>\n",
       "      <td>2021-04-08 17:31:21</td>\n",
       "      <td>2021-04-08</td>\n",
       "      <td>17</td>\n",
       "      <td>31</td>\n",
       "      <td>B61</td>\n",
       "      <td>0</td>\n",
       "      <td>397</td>\n",
       "      <td>40.6876</td>\n",
       "      <td>-74.0014</td>\n",
       "      <td>None</td>\n",
       "      <td>NaN</td>\n",
       "      <td>NaN</td>\n",
       "      <td>\\N</td>\n",
       "      <td>None</td>\n",
       "    </tr>\n",
       "    <tr>\n",
       "      <th>135933935</th>\n",
       "      <td>2021-04-19 20:55:17</td>\n",
       "      <td>2021-04-19</td>\n",
       "      <td>20</td>\n",
       "      <td>55</td>\n",
       "      <td>Q88</td>\n",
       "      <td>1</td>\n",
       "      <td>4461</td>\n",
       "      <td>40.7350</td>\n",
       "      <td>-73.7837</td>\n",
       "      <td>None</td>\n",
       "      <td>NaN</td>\n",
       "      <td>NaN</td>\n",
       "      <td>\\N</td>\n",
       "      <td>None</td>\n",
       "    </tr>\n",
       "  </tbody>\n",
       "</table>\n",
       "</div>"
      ],
      "text/plain": [
       "                    timestamp service_date  hour  minute route_short  \\\n",
       "140594608 2021-04-22 07:49:17   2021-04-22     7      49         Q88   \n",
       "45731545  2021-05-28 12:56:06   2021-05-28    12      56        M116   \n",
       "118556355 2021-04-09 15:16:21   2021-04-09    15      16         Bx2   \n",
       "116827961 2021-04-08 17:31:21   2021-04-08    17      31         B61   \n",
       "135933935 2021-04-19 20:55:17   2021-04-19    20      55         Q88   \n",
       "\n",
       "           direction vehicle_id      lat      lon next_stop_id  next_stop_d  \\\n",
       "140594608          0       6894  40.7393 -73.7632         None          NaN   \n",
       "45731545           0       4011  40.8046 -73.9571   MTA_400394        37.38   \n",
       "118556355          1       5965  40.8265 -73.9229         None          NaN   \n",
       "116827961          0        397  40.6876 -74.0014         None          NaN   \n",
       "135933935          1       4461  40.7350 -73.7837         None          NaN   \n",
       "\n",
       "           next_stop_d_along_route passenger_count next_stop_id_cleaned  \n",
       "140594608                      NaN              \\N                 None  \n",
       "45731545                   1378.43              \\N               400394  \n",
       "118556355                      NaN              \\N                 None  \n",
       "116827961                      NaN              \\N                 None  \n",
       "135933935                      NaN              \\N                 None  "
      ]
     },
     "execution_count": 10,
     "metadata": {},
     "output_type": "execute_result"
    }
   ],
   "source": [
    "df.sample(n=5)"
   ]
  },
  {
   "cell_type": "markdown",
   "id": "8161c132",
   "metadata": {},
   "source": [
    "## Fix passenger_count"
   ]
  },
  {
   "cell_type": "raw",
   "id": "86e8d295",
   "metadata": {},
   "source": [
    "Recoding passenger counts properly requires a multi-step process."
   ]
  },
  {
   "cell_type": "code",
   "execution_count": 11,
   "id": "f2dcaf10",
   "metadata": {},
   "outputs": [
    {
     "data": {
      "text/plain": [
       "10663003"
      ]
     },
     "execution_count": 11,
     "metadata": {},
     "output_type": "execute_result"
    }
   ],
   "source": [
    "df['passenger_count'].str.count(r'\\\\N').sum()"
   ]
  },
  {
   "cell_type": "raw",
   "id": "70230caf",
   "metadata": {},
   "source": [
    "Identify vehicles with occupancy sensors installed. "
   ]
  },
  {
   "cell_type": "code",
   "execution_count": 12,
   "id": "56ee4c43",
   "metadata": {},
   "outputs": [
    {
     "data": {
      "text/plain": [
       "array(['7406', '8732', '1022', ..., '6171', '6178', '6141'], dtype=object)"
      ]
     },
     "execution_count": 12,
     "metadata": {},
     "output_type": "execute_result"
    }
   ],
   "source": [
    "vehicle_lookup = df.query(\"passenger_count != r'\\\\N' \")['vehicle_id'].unique()\n",
    "vehicle_lookup"
   ]
  },
  {
   "cell_type": "raw",
   "id": "866ec2e2",
   "metadata": {},
   "source": [
    "Recode 'passenger_count':\n",
    "- If vehicle_id is in vehicle_lookup and passenger_count is \\N --> set passenger_count to 0\n",
    "- If vehicle_id is NOT in vehicle_lookup and passenger_count is \\N --> set passenger_count to None/NaN\n",
    "- Else, cast passenger_count to int"
   ]
  },
  {
   "cell_type": "code",
   "execution_count": 13,
   "id": "be41dc39",
   "metadata": {},
   "outputs": [],
   "source": [
    "def set_zero(row):\n",
    "    \n",
    "    # buses with sensors\n",
    "    if row.vehicle_id in vehicle_lookup:\n",
    "        if row.passenger_count == \"\\\\N\":\n",
    "            return 0\n",
    "        else:\n",
    "            return int(row.passenger_count)\n",
    "\n",
    "    # everything else\n",
    "    if row.passenger_count == \"\\\\N\":\n",
    "        return None\n",
    "    else:\n",
    "        return int(row.passenger_count)\n",
    "    \n",
    "df['passenger_count'] = df.apply(lambda row : set_zero(row), axis = 1)\n",
    "df[\"passenger_count\"] = pd.to_numeric(df[\"passenger_count\"])"
   ]
  },
  {
   "cell_type": "code",
   "execution_count": 14,
   "id": "9376b1af",
   "metadata": {},
   "outputs": [
    {
     "data": {
      "text/html": [
       "<div>\n",
       "<style scoped>\n",
       "    .dataframe tbody tr th:only-of-type {\n",
       "        vertical-align: middle;\n",
       "    }\n",
       "\n",
       "    .dataframe tbody tr th {\n",
       "        vertical-align: top;\n",
       "    }\n",
       "\n",
       "    .dataframe thead th {\n",
       "        text-align: right;\n",
       "    }\n",
       "</style>\n",
       "<table border=\"1\" class=\"dataframe\">\n",
       "  <thead>\n",
       "    <tr style=\"text-align: right;\">\n",
       "      <th></th>\n",
       "      <th>timestamp</th>\n",
       "      <th>service_date</th>\n",
       "      <th>hour</th>\n",
       "      <th>minute</th>\n",
       "      <th>route_short</th>\n",
       "      <th>direction</th>\n",
       "      <th>vehicle_id</th>\n",
       "      <th>lat</th>\n",
       "      <th>lon</th>\n",
       "      <th>next_stop_id</th>\n",
       "      <th>next_stop_d</th>\n",
       "      <th>next_stop_d_along_route</th>\n",
       "      <th>passenger_count</th>\n",
       "      <th>next_stop_id_cleaned</th>\n",
       "    </tr>\n",
       "  </thead>\n",
       "  <tbody>\n",
       "    <tr>\n",
       "      <th>78237982</th>\n",
       "      <td>2021-06-16 16:34:51</td>\n",
       "      <td>2021-06-16</td>\n",
       "      <td>16</td>\n",
       "      <td>34</td>\n",
       "      <td>B2</td>\n",
       "      <td>0</td>\n",
       "      <td>7651</td>\n",
       "      <td>40.6092</td>\n",
       "      <td>-73.9217</td>\n",
       "      <td>MTA_901001</td>\n",
       "      <td>21.59</td>\n",
       "      <td>4316.22</td>\n",
       "      <td>7.0</td>\n",
       "      <td>901001</td>\n",
       "    </tr>\n",
       "    <tr>\n",
       "      <th>12414244</th>\n",
       "      <td>2021-05-10 13:53:28</td>\n",
       "      <td>2021-05-10</td>\n",
       "      <td>13</td>\n",
       "      <td>53</td>\n",
       "      <td>B6</td>\n",
       "      <td>1</td>\n",
       "      <td>7533</td>\n",
       "      <td>40.6250</td>\n",
       "      <td>-73.9632</td>\n",
       "      <td>MTA_307482</td>\n",
       "      <td>152.66</td>\n",
       "      <td>7769.33</td>\n",
       "      <td>NaN</td>\n",
       "      <td>307482</td>\n",
       "    </tr>\n",
       "    <tr>\n",
       "      <th>117020801</th>\n",
       "      <td>2021-04-08 18:55:18</td>\n",
       "      <td>2021-04-08</td>\n",
       "      <td>18</td>\n",
       "      <td>55</td>\n",
       "      <td>Q20A</td>\n",
       "      <td>0</td>\n",
       "      <td>4208</td>\n",
       "      <td>40.7729</td>\n",
       "      <td>-73.8265</td>\n",
       "      <td>None</td>\n",
       "      <td>NaN</td>\n",
       "      <td>NaN</td>\n",
       "      <td>NaN</td>\n",
       "      <td>None</td>\n",
       "    </tr>\n",
       "    <tr>\n",
       "      <th>132111228</th>\n",
       "      <td>2021-04-17 13:42:19</td>\n",
       "      <td>2021-04-17</td>\n",
       "      <td>13</td>\n",
       "      <td>42</td>\n",
       "      <td>Q46</td>\n",
       "      <td>1</td>\n",
       "      <td>8013</td>\n",
       "      <td>40.7201</td>\n",
       "      <td>-73.8087</td>\n",
       "      <td>None</td>\n",
       "      <td>NaN</td>\n",
       "      <td>NaN</td>\n",
       "      <td>NaN</td>\n",
       "      <td>None</td>\n",
       "    </tr>\n",
       "    <tr>\n",
       "      <th>66041510</th>\n",
       "      <td>2021-06-09 16:52:04</td>\n",
       "      <td>2021-06-09</td>\n",
       "      <td>16</td>\n",
       "      <td>52</td>\n",
       "      <td>B48</td>\n",
       "      <td>1</td>\n",
       "      <td>7520</td>\n",
       "      <td>40.7030</td>\n",
       "      <td>-73.9496</td>\n",
       "      <td>MTA_303862</td>\n",
       "      <td>32.11</td>\n",
       "      <td>4075.00</td>\n",
       "      <td>5.0</td>\n",
       "      <td>303862</td>\n",
       "    </tr>\n",
       "    <tr>\n",
       "      <th>23718595</th>\n",
       "      <td>2021-05-16 17:33:18</td>\n",
       "      <td>2021-05-16</td>\n",
       "      <td>17</td>\n",
       "      <td>33</td>\n",
       "      <td>B6</td>\n",
       "      <td>0</td>\n",
       "      <td>4873</td>\n",
       "      <td>40.6363</td>\n",
       "      <td>-73.9120</td>\n",
       "      <td>MTA_300564</td>\n",
       "      <td>8.84</td>\n",
       "      <td>11109.80</td>\n",
       "      <td>27.0</td>\n",
       "      <td>300564</td>\n",
       "    </tr>\n",
       "    <tr>\n",
       "      <th>86438563</th>\n",
       "      <td>2021-06-21 15:46:34</td>\n",
       "      <td>2021-06-21</td>\n",
       "      <td>15</td>\n",
       "      <td>46</td>\n",
       "      <td>M66</td>\n",
       "      <td>0</td>\n",
       "      <td>7593</td>\n",
       "      <td>40.7644</td>\n",
       "      <td>-73.9560</td>\n",
       "      <td>MTA_403996</td>\n",
       "      <td>45.60</td>\n",
       "      <td>3335.35</td>\n",
       "      <td>3.0</td>\n",
       "      <td>403996</td>\n",
       "    </tr>\n",
       "    <tr>\n",
       "      <th>89775399</th>\n",
       "      <td>2021-06-23 10:18:23</td>\n",
       "      <td>2021-06-23</td>\n",
       "      <td>10</td>\n",
       "      <td>18</td>\n",
       "      <td>S56</td>\n",
       "      <td>0</td>\n",
       "      <td>8158</td>\n",
       "      <td>40.5231</td>\n",
       "      <td>-74.1885</td>\n",
       "      <td>MTA_201182</td>\n",
       "      <td>12.66</td>\n",
       "      <td>506.61</td>\n",
       "      <td>0.0</td>\n",
       "      <td>201182</td>\n",
       "    </tr>\n",
       "    <tr>\n",
       "      <th>127553388</th>\n",
       "      <td>2021-04-15 06:15:16</td>\n",
       "      <td>2021-04-15</td>\n",
       "      <td>6</td>\n",
       "      <td>15</td>\n",
       "      <td>Q36</td>\n",
       "      <td>0</td>\n",
       "      <td>8027</td>\n",
       "      <td>40.7706</td>\n",
       "      <td>-73.7353</td>\n",
       "      <td>None</td>\n",
       "      <td>NaN</td>\n",
       "      <td>NaN</td>\n",
       "      <td>NaN</td>\n",
       "      <td>None</td>\n",
       "    </tr>\n",
       "    <tr>\n",
       "      <th>47090825</th>\n",
       "      <td>2021-05-29 09:57:57</td>\n",
       "      <td>2021-05-29</td>\n",
       "      <td>9</td>\n",
       "      <td>57</td>\n",
       "      <td>Bx22</td>\n",
       "      <td>1</td>\n",
       "      <td>5808</td>\n",
       "      <td>40.8608</td>\n",
       "      <td>-73.8897</td>\n",
       "      <td>MTA_100636</td>\n",
       "      <td>213.07</td>\n",
       "      <td>796.95</td>\n",
       "      <td>NaN</td>\n",
       "      <td>100636</td>\n",
       "    </tr>\n",
       "  </tbody>\n",
       "</table>\n",
       "</div>"
      ],
      "text/plain": [
       "                    timestamp service_date  hour  minute route_short  \\\n",
       "78237982  2021-06-16 16:34:51   2021-06-16    16      34          B2   \n",
       "12414244  2021-05-10 13:53:28   2021-05-10    13      53          B6   \n",
       "117020801 2021-04-08 18:55:18   2021-04-08    18      55        Q20A   \n",
       "132111228 2021-04-17 13:42:19   2021-04-17    13      42         Q46   \n",
       "66041510  2021-06-09 16:52:04   2021-06-09    16      52         B48   \n",
       "23718595  2021-05-16 17:33:18   2021-05-16    17      33          B6   \n",
       "86438563  2021-06-21 15:46:34   2021-06-21    15      46         M66   \n",
       "89775399  2021-06-23 10:18:23   2021-06-23    10      18         S56   \n",
       "127553388 2021-04-15 06:15:16   2021-04-15     6      15         Q36   \n",
       "47090825  2021-05-29 09:57:57   2021-05-29     9      57        Bx22   \n",
       "\n",
       "           direction vehicle_id      lat      lon next_stop_id  next_stop_d  \\\n",
       "78237982           0       7651  40.6092 -73.9217   MTA_901001        21.59   \n",
       "12414244           1       7533  40.6250 -73.9632   MTA_307482       152.66   \n",
       "117020801          0       4208  40.7729 -73.8265         None          NaN   \n",
       "132111228          1       8013  40.7201 -73.8087         None          NaN   \n",
       "66041510           1       7520  40.7030 -73.9496   MTA_303862        32.11   \n",
       "23718595           0       4873  40.6363 -73.9120   MTA_300564         8.84   \n",
       "86438563           0       7593  40.7644 -73.9560   MTA_403996        45.60   \n",
       "89775399           0       8158  40.5231 -74.1885   MTA_201182        12.66   \n",
       "127553388          0       8027  40.7706 -73.7353         None          NaN   \n",
       "47090825           1       5808  40.8608 -73.8897   MTA_100636       213.07   \n",
       "\n",
       "           next_stop_d_along_route  passenger_count next_stop_id_cleaned  \n",
       "78237982                   4316.22              7.0               901001  \n",
       "12414244                   7769.33              NaN               307482  \n",
       "117020801                      NaN              NaN                 None  \n",
       "132111228                      NaN              NaN                 None  \n",
       "66041510                   4075.00              5.0               303862  \n",
       "23718595                  11109.80             27.0               300564  \n",
       "86438563                   3335.35              3.0               403996  \n",
       "89775399                    506.61              0.0               201182  \n",
       "127553388                      NaN              NaN                 None  \n",
       "47090825                    796.95              NaN               100636  "
      ]
     },
     "execution_count": 14,
     "metadata": {},
     "output_type": "execute_result"
    }
   ],
   "source": [
    "df.sample(n=10)"
   ]
  },
  {
   "cell_type": "raw",
   "id": "a3e48698",
   "metadata": {},
   "source": [
    "Quality check a single sensor-equipped vehicle and a single non-equipped one."
   ]
  },
  {
   "cell_type": "code",
   "execution_count": 15,
   "id": "debff879",
   "metadata": {},
   "outputs": [
    {
     "data": {
      "text/plain": [
       "array([[<AxesSubplot:title={'center':'passenger_count'}>]], dtype=object)"
      ]
     },
     "execution_count": 15,
     "metadata": {},
     "output_type": "execute_result"
    },
    {
     "data": {
      "image/png": "[encoded data removed]",
      "text/plain": [
       "<Figure size 432x288 with 1 Axes>"
      ]
     },
     "metadata": {
      "needs_background": "light"
     },
     "output_type": "display_data"
    }
   ],
   "source": [
    "df.loc[df['vehicle_id'] == '6049'].hist('passenger_count')"
   ]
  },
  {
   "cell_type": "code",
   "execution_count": 16,
   "id": "fd026f09",
   "metadata": {},
   "outputs": [
    {
     "data": {
      "text/plain": [
       "array([[<AxesSubplot:title={'center':'passenger_count'}>]], dtype=object)"
      ]
     },
     "execution_count": 16,
     "metadata": {},
     "output_type": "execute_result"
    },
    {
     "data": {
      "image/png": "[encoded data removed]",
      "text/plain": [
       "<Figure size 432x288 with 1 Axes>"
      ]
     },
     "metadata": {
      "needs_background": "light"
     },
     "output_type": "display_data"
    }
   ],
   "source": [
    "df.loc[df['vehicle_id'] == '5976'].hist('passenger_count')"
   ]
  },
  {
   "cell_type": "markdown",
   "id": "97d0b206",
   "metadata": {},
   "source": [
    "## Drop rows we can't use"
   ]
  },
  {
   "cell_type": "code",
   "execution_count": 17,
   "id": "8a498f77",
   "metadata": {},
   "outputs": [
    {
     "data": {
      "text/plain": [
       "(15940084, 14)"
      ]
     },
     "execution_count": 17,
     "metadata": {},
     "output_type": "execute_result"
    }
   ],
   "source": [
    "df.shape"
   ]
  },
  {
   "cell_type": "raw",
   "id": "593a253c",
   "metadata": {},
   "source": [
    "First, drop those with passenger_count=NaN"
   ]
  },
  {
   "cell_type": "code",
   "execution_count": 18,
   "id": "71b7ca63",
   "metadata": {},
   "outputs": [
    {
     "data": {
      "text/plain": [
       "NaN      9440963\n",
       "0.0      1222040\n",
       "1.0       547998\n",
       "2.0       450121\n",
       "3.0       400403\n",
       "          ...   \n",
       "106.0          6\n",
       "104.0          6\n",
       "110.0          5\n",
       "108.0          5\n",
       "103.0          4\n",
       "Name: passenger_count, Length: 112, dtype: int64"
      ]
     },
     "execution_count": 18,
     "metadata": {},
     "output_type": "execute_result"
    }
   ],
   "source": [
    "df['passenger_count'].value_counts(dropna=False)"
   ]
  },
  {
   "cell_type": "code",
   "execution_count": 19,
   "id": "6b8f9e2f",
   "metadata": {},
   "outputs": [
    {
     "data": {
      "text/plain": [
       "(6499121, 14)"
      ]
     },
     "execution_count": 19,
     "metadata": {},
     "output_type": "execute_result"
    }
   ],
   "source": [
    "df = df[df['passenger_count'].notna()]\n",
    "df.shape"
   ]
  },
  {
   "cell_type": "raw",
   "id": "8fe75757",
   "metadata": {},
   "source": [
    "And now drop remaining rows where next_stop_id is NaN."
   ]
  },
  {
   "cell_type": "code",
   "execution_count": 20,
   "id": "17456b93",
   "metadata": {},
   "outputs": [
    {
     "data": {
      "text/plain": [
       "(4171122, 14)"
      ]
     },
     "execution_count": 20,
     "metadata": {},
     "output_type": "execute_result"
    }
   ],
   "source": [
    "df = df[df['next_stop_id'].notna()]\n",
    "df.shape"
   ]
  },
  {
   "cell_type": "raw",
   "id": "5593cb07",
   "metadata": {},
   "source": [
    "And check all the NaNs are gone."
   ]
  },
  {
   "cell_type": "code",
   "execution_count": 21,
   "id": "0f54ebbd",
   "metadata": {},
   "outputs": [
    {
     "data": {
      "text/plain": [
       "MTA_203345    21362\n",
       "MTA_404887    17777\n",
       "MTA_402143    12261\n",
       "MTA_403239    11521\n",
       "MTA_200176    11430\n",
       "              ...  \n",
       "MTA_300357        1\n",
       "MTA_101797        1\n",
       "MTA_102131        1\n",
       "MTA_305364        1\n",
       "MTA_102084        1\n",
       "Name: next_stop_id, Length: 11829, dtype: int64"
      ]
     },
     "execution_count": 21,
     "metadata": {},
     "output_type": "execute_result"
    }
   ],
   "source": [
    "df['next_stop_id'].value_counts(dropna=False)"
   ]
  },
  {
   "cell_type": "code",
   "execution_count": 22,
   "id": "b7c201fb",
   "metadata": {},
   "outputs": [
    {
     "data": {
      "text/plain": [
       "0.0      708259\n",
       "1.0      349591\n",
       "2.0      287654\n",
       "3.0      256884\n",
       "4.0      236808\n",
       "          ...  \n",
       "107.0         5\n",
       "104.0         5\n",
       "108.0         5\n",
       "103.0         4\n",
       "110.0         2\n",
       "Name: passenger_count, Length: 111, dtype: int64"
      ]
     },
     "execution_count": 22,
     "metadata": {},
     "output_type": "execute_result"
    }
   ],
   "source": [
    "df['passenger_count'].value_counts(dropna=False)"
   ]
  },
  {
   "cell_type": "markdown",
   "id": "737e4769",
   "metadata": {},
   "source": [
    "## Final check"
   ]
  },
  {
   "cell_type": "code",
   "execution_count": 23,
   "id": "bb766197",
   "metadata": {},
   "outputs": [
    {
     "data": {
      "text/plain": [
       "(4171122, 14)"
      ]
     },
     "execution_count": 23,
     "metadata": {},
     "output_type": "execute_result"
    }
   ],
   "source": [
    "df.shape"
   ]
  },
  {
   "cell_type": "code",
   "execution_count": 24,
   "id": "417fd412",
   "metadata": {},
   "outputs": [
    {
     "data": {
      "text/plain": [
       "<AxesSubplot:>"
      ]
     },
     "execution_count": 24,
     "metadata": {},
     "output_type": "execute_result"
    },
    {
     "data": {
      "image/png": "[encoded data removed]",
      "text/plain": [
       "<Figure size 432x288 with 1 Axes>"
      ]
     },
     "metadata": {
      "needs_background": "light"
     },
     "output_type": "display_data"
    }
   ],
   "source": [
    "df['service_date'].value_counts(dropna=False).sort_index(ascending=True).plot()"
   ]
  },
  {
   "cell_type": "code",
   "execution_count": 25,
   "id": "c8101f10",
   "metadata": {},
   "outputs": [
    {
     "data": {
      "text/plain": [
       "array([[<AxesSubplot:title={'center':'passenger_count'}>]], dtype=object)"
      ]
     },
     "execution_count": 25,
     "metadata": {},
     "output_type": "execute_result"
    },
    {
     "data": {
      "image/png": "[encoded data removed]",
      "text/plain": [
       "<Figure size 432x288 with 1 Axes>"
      ]
     },
     "metadata": {
      "needs_background": "light"
     },
     "output_type": "display_data"
    }
   ],
   "source": [
    "df.hist('passenger_count')"
   ]
  },
  {
   "cell_type": "markdown",
   "id": "4a7b497c",
   "metadata": {},
   "source": [
    "### Save an updated table"
   ]
  },
  {
   "cell_type": "code",
   "execution_count": 27,
   "id": "c1c86728",
   "metadata": {},
   "outputs": [],
   "source": [
    "df.reset_index().to_feather(f'data/nyc_buses_with_passenger_counts_20210401_20210630_citywide_cleaned.feather')"
   ]
  },
  {
   "cell_type": "code",
   "execution_count": null,
   "id": "bf779db2",
   "metadata": {},
   "outputs": [],
   "source": []
  }
 ],
 "metadata": {
  "kernelspec": {
   "display_name": "Python [conda env:tensorflow]",
   "language": "python",
   "name": "conda-env-tensorflow-py"
  },
  "language_info": {
   "codemirror_mode": {
    "name": "ipython",
    "version": 3
   },
   "file_extension": ".py",
   "mimetype": "text/x-python",
   "name": "python",
   "nbconvert_exporter": "python",
   "pygments_lexer": "ipython3",
   "version": "3.9.5"
  }
 },
 "nbformat": 4,
 "nbformat_minor": 5
}
