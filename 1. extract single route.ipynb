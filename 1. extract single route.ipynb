{
 "cells": [
  {
   "cell_type": "markdown",
   "id": "db01e516",
   "metadata": {
    "tags": []
   },
   "source": [
    "# Extract one clean route from citywide 3-month dump"
   ]
  },
  {
   "cell_type": "markdown",
   "id": "6cdcd96d",
   "metadata": {},
   "source": [
    "#### PREPARING THE CITYWIDE CSV FILE\n",
    "\n",
    "1. Dump a CSV from `buses_merged` in the local database using\n",
    "\n",
    "```\n",
    "SELECT timestamp, service_date, hour(timestamp), minute(timestamp), route_short, direction, vehicle_id, lat, lon, next_stop_id, next_stop_d, next_stop_d_along_route, passenger_count\n",
    "FROM buses_merged\n",
    "WHERE service_date\n",
    "BETWEEN '2021-04-01' AND '2021-06-30'\n",
    "INTO OUTFILE '/Users/anthonytownsend/PyCharm Projects/tmp/nn_dump.csv'\n",
    "FIELDS TERMINATED BY ','\n",
    "ENCLOSED BY '\"'\n",
    "LINES TERMINATED BY '\\n';\n",
    "```\n",
    "\n",
    "2. Create the following file...\n",
    "\n",
    "```\n",
    "header.csv\n",
    "\n",
    "timestamp,service_date,hour,minute,route_short,direction,vehicle_id,lat,lon,next_stop_id,next_stop_d,next_stop_d_along_route,passenger_count\n",
    "```\n",
    "\n",
    "3. ...and cat it onto the CSV into the notebook data dir.\n",
    "\n",
    "```\n",
    "cat header.csv nn_dump.csv > /Users/anthonytownsend/Desktop/_code/notebooks/passenger_pred/data/nyc_buses_with_passenger_counts_20210401_20210630.csv\n",
    "\n",
    "```\n",
    "4. Then run this notebook from top to bottom!"
   ]
  },
  {
   "cell_type": "code",
   "execution_count": null,
   "id": "78ed32a6",
   "metadata": {},
   "outputs": [],
   "source": [
    "route='M15'"
   ]
  },
  {
   "cell_type": "code",
   "execution_count": 2,
   "id": "e8aefdf9",
   "metadata": {},
   "outputs": [],
   "source": [
    "import pandas as pd"
   ]
  },
  {
   "cell_type": "markdown",
   "id": "de1400c7",
   "metadata": {},
   "source": [
    "# Create single route parquet table (run once then comment out)"
   ]
  },
  {
   "cell_type": "code",
   "execution_count": 3,
   "id": "8415728d",
   "metadata": {},
   "outputs": [],
   "source": [
    "def loadcsv_and_clean():\n",
    "    df_tmp = pd.read_csv('data/nyc_buses_with_passenger_counts_20210401_20210630.csv')\n",
    "    \n",
    "    # select one route\n",
    "    df_tmp = df_tmp.loc[df_tmp['route_short'] == route]\n",
    "\n",
    "    # convert both date columns to datetime\n",
    "    df_tmp['timestamp']=pd.to_datetime(df_tmp['timestamp'])\n",
    "    df_tmp['service_date']=pd.to_datetime(df_tmp['service_date'])\n",
    "\n",
    "    # strip MTA NYCT_ from vehicle id\n",
    "    df_tmp[\"vehicle_id\"]=df_tmp[\"vehicle_id\"].str[9:]\n",
    "    \n",
    "    # dump to parquet for faster access later\n",
    "    df_tmp.to_parquet(f'data/nyc_buses_with_passenger_counts_20210401_20210630_{route}.parquet')\n",
    "    df_tmp.shape\n",
    "    \n",
    "# loadcsv_and_clean()"
   ]
  },
  {
   "cell_type": "markdown",
   "id": "1364177a",
   "metadata": {},
   "source": [
    "## load table"
   ]
  },
  {
   "cell_type": "code",
   "execution_count": 4,
   "id": "e550d427",
   "metadata": {},
   "outputs": [
    {
     "data": {
      "text/plain": [
       "(1767091, 13)"
      ]
     },
     "execution_count": 4,
     "metadata": {},
     "output_type": "execute_result"
    }
   ],
   "source": [
    "df = pd.read_parquet(f'data/nyc_buses_with_passenger_counts_20210401_20210630_{route}.parquet')\n",
    "df.shape"
   ]
  },
  {
   "cell_type": "markdown",
   "id": "43815725",
   "metadata": {},
   "source": [
    "## Clean up next_stop fields"
   ]
  },
  {
   "cell_type": "code",
   "execution_count": 5,
   "id": "3bd55d37",
   "metadata": {},
   "outputs": [],
   "source": [
    "def next_stop_id(row):\n",
    "    if row.next_stop_id == \"\\\\N\":\n",
    "        return None\n",
    "    else:\n",
    "        return row.next_stop_id\n",
    "df['next_stop_id'] = df.apply(lambda row : next_stop_id(row), axis = 1)"
   ]
  },
  {
   "cell_type": "code",
   "execution_count": 6,
   "id": "d8e747ce",
   "metadata": {},
   "outputs": [],
   "source": [
    "def next_stop_d(row):\n",
    "    if row.next_stop_d == \"\\\\N\":\n",
    "        return None\n",
    "    else:\n",
    "        return row.next_stop_d\n",
    "df['next_stop_d'] = df.apply(lambda row : next_stop_d(row), axis = 1)\n",
    "df[\"next_stop_d\"] = pd.to_numeric(df[\"next_stop_d\"])"
   ]
  },
  {
   "cell_type": "code",
   "execution_count": 7,
   "id": "4147b4a0",
   "metadata": {},
   "outputs": [],
   "source": [
    "def next_stop_d_along_route(row):\n",
    "    if row.next_stop_d_along_route == \"\\\\N\":\n",
    "        return None\n",
    "    else:\n",
    "        return row.next_stop_d_along_route\n",
    "df['next_stop_d_along_route'] = df.apply(lambda row : next_stop_d_along_route(row), axis = 1)\n",
    "df[\"next_stop_d_along_route\"] = pd.to_numeric(df[\"next_stop_d_along_route\"])"
   ]
  },
  {
   "cell_type": "code",
   "execution_count": 8,
   "id": "b32e39b3",
   "metadata": {},
   "outputs": [
    {
     "data": {
      "text/html": [
       "<div>\n",
       "<style scoped>\n",
       "    .dataframe tbody tr th:only-of-type {\n",
       "        vertical-align: middle;\n",
       "    }\n",
       "\n",
       "    .dataframe tbody tr th {\n",
       "        vertical-align: top;\n",
       "    }\n",
       "\n",
       "    .dataframe thead th {\n",
       "        text-align: right;\n",
       "    }\n",
       "</style>\n",
       "<table border=\"1\" class=\"dataframe\">\n",
       "  <thead>\n",
       "    <tr style=\"text-align: right;\">\n",
       "      <th></th>\n",
       "      <th>timestamp</th>\n",
       "      <th>service_date</th>\n",
       "      <th>hour</th>\n",
       "      <th>minute</th>\n",
       "      <th>route_short</th>\n",
       "      <th>direction</th>\n",
       "      <th>vehicle_id</th>\n",
       "      <th>lat</th>\n",
       "      <th>lon</th>\n",
       "      <th>next_stop_id</th>\n",
       "      <th>next_stop_d</th>\n",
       "      <th>next_stop_d_along_route</th>\n",
       "      <th>passenger_count</th>\n",
       "    </tr>\n",
       "    <tr>\n",
       "      <th>index</th>\n",
       "      <th></th>\n",
       "      <th></th>\n",
       "      <th></th>\n",
       "      <th></th>\n",
       "      <th></th>\n",
       "      <th></th>\n",
       "      <th></th>\n",
       "      <th></th>\n",
       "      <th></th>\n",
       "      <th></th>\n",
       "      <th></th>\n",
       "      <th></th>\n",
       "      <th></th>\n",
       "    </tr>\n",
       "  </thead>\n",
       "  <tbody>\n",
       "    <tr>\n",
       "      <th>50211349</th>\n",
       "      <td>2021-05-31 18:42:55</td>\n",
       "      <td>2021-05-31</td>\n",
       "      <td>18</td>\n",
       "      <td>42</td>\n",
       "      <td>M15</td>\n",
       "      <td>1</td>\n",
       "      <td>5835</td>\n",
       "      <td>40.7147</td>\n",
       "      <td>-73.9928</td>\n",
       "      <td>MTA_404844</td>\n",
       "      <td>226.60</td>\n",
       "      <td>11615.00</td>\n",
       "      <td>\\N</td>\n",
       "    </tr>\n",
       "    <tr>\n",
       "      <th>158557214</th>\n",
       "      <td>2021-05-02 05:15:16</td>\n",
       "      <td>2021-05-02</td>\n",
       "      <td>5</td>\n",
       "      <td>15</td>\n",
       "      <td>M15</td>\n",
       "      <td>0</td>\n",
       "      <td>5861</td>\n",
       "      <td>40.8031</td>\n",
       "      <td>-73.9323</td>\n",
       "      <td>None</td>\n",
       "      <td>NaN</td>\n",
       "      <td>NaN</td>\n",
       "      <td>\\N</td>\n",
       "    </tr>\n",
       "    <tr>\n",
       "      <th>109984891</th>\n",
       "      <td>2021-04-05 07:19:17</td>\n",
       "      <td>2021-04-05</td>\n",
       "      <td>7</td>\n",
       "      <td>19</td>\n",
       "      <td>M15</td>\n",
       "      <td>0</td>\n",
       "      <td>5262</td>\n",
       "      <td>40.7874</td>\n",
       "      <td>-73.9417</td>\n",
       "      <td>None</td>\n",
       "      <td>NaN</td>\n",
       "      <td>NaN</td>\n",
       "      <td>\\N</td>\n",
       "    </tr>\n",
       "    <tr>\n",
       "      <th>147461701</th>\n",
       "      <td>2021-04-26 10:28:17</td>\n",
       "      <td>2021-04-26</td>\n",
       "      <td>10</td>\n",
       "      <td>28</td>\n",
       "      <td>M15</td>\n",
       "      <td>0</td>\n",
       "      <td>5877</td>\n",
       "      <td>40.7370</td>\n",
       "      <td>-73.9785</td>\n",
       "      <td>None</td>\n",
       "      <td>NaN</td>\n",
       "      <td>NaN</td>\n",
       "      <td>\\N</td>\n",
       "    </tr>\n",
       "    <tr>\n",
       "      <th>109311632</th>\n",
       "      <td>2021-04-04 16:36:22</td>\n",
       "      <td>2021-04-04</td>\n",
       "      <td>16</td>\n",
       "      <td>36</td>\n",
       "      <td>M15</td>\n",
       "      <td>0</td>\n",
       "      <td>5836</td>\n",
       "      <td>40.7189</td>\n",
       "      <td>-73.9904</td>\n",
       "      <td>None</td>\n",
       "      <td>NaN</td>\n",
       "      <td>NaN</td>\n",
       "      <td>\\N</td>\n",
       "    </tr>\n",
       "    <tr>\n",
       "      <th>50597191</th>\n",
       "      <td>2021-06-01 05:30:47</td>\n",
       "      <td>2021-06-01</td>\n",
       "      <td>5</td>\n",
       "      <td>30</td>\n",
       "      <td>M15</td>\n",
       "      <td>1</td>\n",
       "      <td>6035</td>\n",
       "      <td>40.7063</td>\n",
       "      <td>-74.0058</td>\n",
       "      <td>MTA_405337</td>\n",
       "      <td>276.13</td>\n",
       "      <td>13326.70</td>\n",
       "      <td>1</td>\n",
       "    </tr>\n",
       "    <tr>\n",
       "      <th>126433575</th>\n",
       "      <td>2021-04-14 14:31:20</td>\n",
       "      <td>2021-04-14</td>\n",
       "      <td>14</td>\n",
       "      <td>31</td>\n",
       "      <td>M15</td>\n",
       "      <td>0</td>\n",
       "      <td>5885</td>\n",
       "      <td>40.7574</td>\n",
       "      <td>-73.9636</td>\n",
       "      <td>None</td>\n",
       "      <td>NaN</td>\n",
       "      <td>NaN</td>\n",
       "      <td>\\N</td>\n",
       "    </tr>\n",
       "    <tr>\n",
       "      <th>136246120</th>\n",
       "      <td>2021-04-20 06:08:19</td>\n",
       "      <td>2021-04-20</td>\n",
       "      <td>6</td>\n",
       "      <td>8</td>\n",
       "      <td>M15</td>\n",
       "      <td>1</td>\n",
       "      <td>5329</td>\n",
       "      <td>40.7017</td>\n",
       "      <td>-74.0117</td>\n",
       "      <td>None</td>\n",
       "      <td>NaN</td>\n",
       "      <td>NaN</td>\n",
       "      <td>\\N</td>\n",
       "    </tr>\n",
       "    <tr>\n",
       "      <th>46518376</th>\n",
       "      <td>2021-05-28 19:59:52</td>\n",
       "      <td>2021-05-28</td>\n",
       "      <td>19</td>\n",
       "      <td>59</td>\n",
       "      <td>M15</td>\n",
       "      <td>0</td>\n",
       "      <td>5919</td>\n",
       "      <td>40.8027</td>\n",
       "      <td>-73.9314</td>\n",
       "      <td>MTA_803054</td>\n",
       "      <td>81.59</td>\n",
       "      <td>11746.10</td>\n",
       "      <td>\\N</td>\n",
       "    </tr>\n",
       "    <tr>\n",
       "      <th>35635296</th>\n",
       "      <td>2021-05-23 00:43:17</td>\n",
       "      <td>2021-05-23</td>\n",
       "      <td>0</td>\n",
       "      <td>43</td>\n",
       "      <td>M15</td>\n",
       "      <td>1</td>\n",
       "      <td>5868</td>\n",
       "      <td>40.8032</td>\n",
       "      <td>-73.9326</td>\n",
       "      <td>MTA_401738</td>\n",
       "      <td>169.57</td>\n",
       "      <td>180.88</td>\n",
       "      <td>\\N</td>\n",
       "    </tr>\n",
       "    <tr>\n",
       "      <th>9865600</th>\n",
       "      <td>2021-05-08 17:10:18</td>\n",
       "      <td>2021-05-08</td>\n",
       "      <td>17</td>\n",
       "      <td>10</td>\n",
       "      <td>M15</td>\n",
       "      <td>1</td>\n",
       "      <td>5911</td>\n",
       "      <td>40.7844</td>\n",
       "      <td>-73.9470</td>\n",
       "      <td>MTA_401749</td>\n",
       "      <td>38.83</td>\n",
       "      <td>2512.63</td>\n",
       "      <td>\\N</td>\n",
       "    </tr>\n",
       "    <tr>\n",
       "      <th>124847991</th>\n",
       "      <td>2021-04-13 17:57:17</td>\n",
       "      <td>2021-04-13</td>\n",
       "      <td>17</td>\n",
       "      <td>57</td>\n",
       "      <td>M15</td>\n",
       "      <td>0</td>\n",
       "      <td>5891</td>\n",
       "      <td>40.7715</td>\n",
       "      <td>-73.9532</td>\n",
       "      <td>None</td>\n",
       "      <td>NaN</td>\n",
       "      <td>NaN</td>\n",
       "      <td>\\N</td>\n",
       "    </tr>\n",
       "    <tr>\n",
       "      <th>90765765</th>\n",
       "      <td>2021-06-23 18:50:31</td>\n",
       "      <td>2021-06-23</td>\n",
       "      <td>18</td>\n",
       "      <td>50</td>\n",
       "      <td>M15</td>\n",
       "      <td>1</td>\n",
       "      <td>5329</td>\n",
       "      <td>40.7872</td>\n",
       "      <td>-73.9449</td>\n",
       "      <td>MTA_401748</td>\n",
       "      <td>273.50</td>\n",
       "      <td>2392.25</td>\n",
       "      <td>\\N</td>\n",
       "    </tr>\n",
       "    <tr>\n",
       "      <th>130723370</th>\n",
       "      <td>2021-04-16 16:08:22</td>\n",
       "      <td>2021-04-16</td>\n",
       "      <td>16</td>\n",
       "      <td>8</td>\n",
       "      <td>M15</td>\n",
       "      <td>1</td>\n",
       "      <td>5900</td>\n",
       "      <td>40.7408</td>\n",
       "      <td>-73.9788</td>\n",
       "      <td>None</td>\n",
       "      <td>NaN</td>\n",
       "      <td>NaN</td>\n",
       "      <td>\\N</td>\n",
       "    </tr>\n",
       "    <tr>\n",
       "      <th>149636055</th>\n",
       "      <td>2021-04-27 11:38:19</td>\n",
       "      <td>2021-04-27</td>\n",
       "      <td>11</td>\n",
       "      <td>38</td>\n",
       "      <td>M15</td>\n",
       "      <td>1</td>\n",
       "      <td>6071</td>\n",
       "      <td>40.7319</td>\n",
       "      <td>-73.9853</td>\n",
       "      <td>None</td>\n",
       "      <td>NaN</td>\n",
       "      <td>NaN</td>\n",
       "      <td>8</td>\n",
       "    </tr>\n",
       "    <tr>\n",
       "      <th>18618632</th>\n",
       "      <td>2021-05-13 15:00:18</td>\n",
       "      <td>2021-05-13</td>\n",
       "      <td>15</td>\n",
       "      <td>0</td>\n",
       "      <td>M15</td>\n",
       "      <td>1</td>\n",
       "      <td>6079</td>\n",
       "      <td>40.7714</td>\n",
       "      <td>-73.9564</td>\n",
       "      <td>MTA_401758</td>\n",
       "      <td>80.83</td>\n",
       "      <td>4202.14</td>\n",
       "      <td>24</td>\n",
       "    </tr>\n",
       "    <tr>\n",
       "      <th>93183724</th>\n",
       "      <td>2021-06-25 05:58:27</td>\n",
       "      <td>2021-06-25</td>\n",
       "      <td>5</td>\n",
       "      <td>58</td>\n",
       "      <td>M15</td>\n",
       "      <td>1</td>\n",
       "      <td>5898</td>\n",
       "      <td>40.7531</td>\n",
       "      <td>-73.9699</td>\n",
       "      <td>MTA_401769</td>\n",
       "      <td>77.35</td>\n",
       "      <td>6533.82</td>\n",
       "      <td>\\N</td>\n",
       "    </tr>\n",
       "    <tr>\n",
       "      <th>120103288</th>\n",
       "      <td>2021-04-11 03:03:16</td>\n",
       "      <td>2021-04-11</td>\n",
       "      <td>3</td>\n",
       "      <td>3</td>\n",
       "      <td>M15</td>\n",
       "      <td>0</td>\n",
       "      <td>5253</td>\n",
       "      <td>40.8031</td>\n",
       "      <td>-73.9323</td>\n",
       "      <td>None</td>\n",
       "      <td>NaN</td>\n",
       "      <td>NaN</td>\n",
       "      <td>\\N</td>\n",
       "    </tr>\n",
       "    <tr>\n",
       "      <th>67944317</th>\n",
       "      <td>2021-06-10 16:48:18</td>\n",
       "      <td>2021-06-10</td>\n",
       "      <td>16</td>\n",
       "      <td>48</td>\n",
       "      <td>M15</td>\n",
       "      <td>1</td>\n",
       "      <td>5834</td>\n",
       "      <td>40.7016</td>\n",
       "      <td>-74.0120</td>\n",
       "      <td>MTA_803002</td>\n",
       "      <td>20.18</td>\n",
       "      <td>13888.40</td>\n",
       "      <td>\\N</td>\n",
       "    </tr>\n",
       "    <tr>\n",
       "      <th>8850626</th>\n",
       "      <td>2021-05-07 23:19:17</td>\n",
       "      <td>2021-05-07</td>\n",
       "      <td>23</td>\n",
       "      <td>19</td>\n",
       "      <td>M15</td>\n",
       "      <td>0</td>\n",
       "      <td>6059</td>\n",
       "      <td>40.8016</td>\n",
       "      <td>-73.9313</td>\n",
       "      <td>MTA_401731</td>\n",
       "      <td>0.00</td>\n",
       "      <td>13528.70</td>\n",
       "      <td>1</td>\n",
       "    </tr>\n",
       "  </tbody>\n",
       "</table>\n",
       "</div>"
      ],
      "text/plain": [
       "                    timestamp service_date  hour  minute route_short  \\\n",
       "index                                                                  \n",
       "50211349  2021-05-31 18:42:55   2021-05-31    18      42         M15   \n",
       "158557214 2021-05-02 05:15:16   2021-05-02     5      15         M15   \n",
       "109984891 2021-04-05 07:19:17   2021-04-05     7      19         M15   \n",
       "147461701 2021-04-26 10:28:17   2021-04-26    10      28         M15   \n",
       "109311632 2021-04-04 16:36:22   2021-04-04    16      36         M15   \n",
       "50597191  2021-06-01 05:30:47   2021-06-01     5      30         M15   \n",
       "126433575 2021-04-14 14:31:20   2021-04-14    14      31         M15   \n",
       "136246120 2021-04-20 06:08:19   2021-04-20     6       8         M15   \n",
       "46518376  2021-05-28 19:59:52   2021-05-28    19      59         M15   \n",
       "35635296  2021-05-23 00:43:17   2021-05-23     0      43         M15   \n",
       "9865600   2021-05-08 17:10:18   2021-05-08    17      10         M15   \n",
       "124847991 2021-04-13 17:57:17   2021-04-13    17      57         M15   \n",
       "90765765  2021-06-23 18:50:31   2021-06-23    18      50         M15   \n",
       "130723370 2021-04-16 16:08:22   2021-04-16    16       8         M15   \n",
       "149636055 2021-04-27 11:38:19   2021-04-27    11      38         M15   \n",
       "18618632  2021-05-13 15:00:18   2021-05-13    15       0         M15   \n",
       "93183724  2021-06-25 05:58:27   2021-06-25     5      58         M15   \n",
       "120103288 2021-04-11 03:03:16   2021-04-11     3       3         M15   \n",
       "67944317  2021-06-10 16:48:18   2021-06-10    16      48         M15   \n",
       "8850626   2021-05-07 23:19:17   2021-05-07    23      19         M15   \n",
       "\n",
       "           direction vehicle_id      lat      lon next_stop_id  next_stop_d  \\\n",
       "index                                                                         \n",
       "50211349           1       5835  40.7147 -73.9928   MTA_404844       226.60   \n",
       "158557214          0       5861  40.8031 -73.9323         None          NaN   \n",
       "109984891          0       5262  40.7874 -73.9417         None          NaN   \n",
       "147461701          0       5877  40.7370 -73.9785         None          NaN   \n",
       "109311632          0       5836  40.7189 -73.9904         None          NaN   \n",
       "50597191           1       6035  40.7063 -74.0058   MTA_405337       276.13   \n",
       "126433575          0       5885  40.7574 -73.9636         None          NaN   \n",
       "136246120          1       5329  40.7017 -74.0117         None          NaN   \n",
       "46518376           0       5919  40.8027 -73.9314   MTA_803054        81.59   \n",
       "35635296           1       5868  40.8032 -73.9326   MTA_401738       169.57   \n",
       "9865600            1       5911  40.7844 -73.9470   MTA_401749        38.83   \n",
       "124847991          0       5891  40.7715 -73.9532         None          NaN   \n",
       "90765765           1       5329  40.7872 -73.9449   MTA_401748       273.50   \n",
       "130723370          1       5900  40.7408 -73.9788         None          NaN   \n",
       "149636055          1       6071  40.7319 -73.9853         None          NaN   \n",
       "18618632           1       6079  40.7714 -73.9564   MTA_401758        80.83   \n",
       "93183724           1       5898  40.7531 -73.9699   MTA_401769        77.35   \n",
       "120103288          0       5253  40.8031 -73.9323         None          NaN   \n",
       "67944317           1       5834  40.7016 -74.0120   MTA_803002        20.18   \n",
       "8850626            0       6059  40.8016 -73.9313   MTA_401731         0.00   \n",
       "\n",
       "           next_stop_d_along_route passenger_count  \n",
       "index                                               \n",
       "50211349                  11615.00              \\N  \n",
       "158557214                      NaN              \\N  \n",
       "109984891                      NaN              \\N  \n",
       "147461701                      NaN              \\N  \n",
       "109311632                      NaN              \\N  \n",
       "50597191                  13326.70               1  \n",
       "126433575                      NaN              \\N  \n",
       "136246120                      NaN              \\N  \n",
       "46518376                  11746.10              \\N  \n",
       "35635296                    180.88              \\N  \n",
       "9865600                    2512.63              \\N  \n",
       "124847991                      NaN              \\N  \n",
       "90765765                   2392.25              \\N  \n",
       "130723370                      NaN              \\N  \n",
       "149636055                      NaN               8  \n",
       "18618632                   4202.14              24  \n",
       "93183724                   6533.82              \\N  \n",
       "120103288                      NaN              \\N  \n",
       "67944317                  13888.40              \\N  \n",
       "8850626                   13528.70               1  "
      ]
     },
     "execution_count": 8,
     "metadata": {},
     "output_type": "execute_result"
    }
   ],
   "source": [
    "df.sample(n=20)"
   ]
  },
  {
   "cell_type": "markdown",
   "id": "331fb0d3",
   "metadata": {},
   "source": [
    "## Cleanup vehicle_id"
   ]
  },
  {
   "cell_type": "code",
   "execution_count": 9,
   "id": "e6143971",
   "metadata": {},
   "outputs": [],
   "source": [
    "df[\"next_stop_id_cleaned\"]=df[\"next_stop_id\"].str[4:]"
   ]
  },
  {
   "cell_type": "code",
   "execution_count": 10,
   "id": "6514e1d4",
   "metadata": {},
   "outputs": [
    {
     "data": {
      "text/html": [
       "<div>\n",
       "<style scoped>\n",
       "    .dataframe tbody tr th:only-of-type {\n",
       "        vertical-align: middle;\n",
       "    }\n",
       "\n",
       "    .dataframe tbody tr th {\n",
       "        vertical-align: top;\n",
       "    }\n",
       "\n",
       "    .dataframe thead th {\n",
       "        text-align: right;\n",
       "    }\n",
       "</style>\n",
       "<table border=\"1\" class=\"dataframe\">\n",
       "  <thead>\n",
       "    <tr style=\"text-align: right;\">\n",
       "      <th></th>\n",
       "      <th>timestamp</th>\n",
       "      <th>service_date</th>\n",
       "      <th>hour</th>\n",
       "      <th>minute</th>\n",
       "      <th>route_short</th>\n",
       "      <th>direction</th>\n",
       "      <th>vehicle_id</th>\n",
       "      <th>lat</th>\n",
       "      <th>lon</th>\n",
       "      <th>next_stop_id</th>\n",
       "      <th>next_stop_d</th>\n",
       "      <th>next_stop_d_along_route</th>\n",
       "      <th>passenger_count</th>\n",
       "      <th>next_stop_id_cleaned</th>\n",
       "    </tr>\n",
       "    <tr>\n",
       "      <th>index</th>\n",
       "      <th></th>\n",
       "      <th></th>\n",
       "      <th></th>\n",
       "      <th></th>\n",
       "      <th></th>\n",
       "      <th></th>\n",
       "      <th></th>\n",
       "      <th></th>\n",
       "      <th></th>\n",
       "      <th></th>\n",
       "      <th></th>\n",
       "      <th></th>\n",
       "      <th></th>\n",
       "      <th></th>\n",
       "    </tr>\n",
       "  </thead>\n",
       "  <tbody>\n",
       "    <tr>\n",
       "      <th>58282723</th>\n",
       "      <td>2021-06-04 22:44:48</td>\n",
       "      <td>2021-06-04</td>\n",
       "      <td>22</td>\n",
       "      <td>44</td>\n",
       "      <td>M15</td>\n",
       "      <td>1</td>\n",
       "      <td>5900</td>\n",
       "      <td>40.7430</td>\n",
       "      <td>-73.9772</td>\n",
       "      <td>MTA_401775</td>\n",
       "      <td>44.59</td>\n",
       "      <td>7783.19</td>\n",
       "      <td>\\N</td>\n",
       "      <td>401775</td>\n",
       "    </tr>\n",
       "    <tr>\n",
       "      <th>61468787</th>\n",
       "      <td>2021-06-07 10:33:12</td>\n",
       "      <td>2021-06-07</td>\n",
       "      <td>10</td>\n",
       "      <td>33</td>\n",
       "      <td>M15</td>\n",
       "      <td>1</td>\n",
       "      <td>6035</td>\n",
       "      <td>40.7491</td>\n",
       "      <td>-73.9728</td>\n",
       "      <td>MTA_401772</td>\n",
       "      <td>183.45</td>\n",
       "      <td>7148.17</td>\n",
       "      <td>8</td>\n",
       "      <td>401772</td>\n",
       "    </tr>\n",
       "    <tr>\n",
       "      <th>76428367</th>\n",
       "      <td>2021-06-15 17:52:29</td>\n",
       "      <td>2021-06-15</td>\n",
       "      <td>17</td>\n",
       "      <td>52</td>\n",
       "      <td>M15</td>\n",
       "      <td>0</td>\n",
       "      <td>5914</td>\n",
       "      <td>40.7276</td>\n",
       "      <td>-73.9853</td>\n",
       "      <td>MTA_401685</td>\n",
       "      <td>36.36</td>\n",
       "      <td>2058.94</td>\n",
       "      <td>\\N</td>\n",
       "      <td>401685</td>\n",
       "    </tr>\n",
       "    <tr>\n",
       "      <th>91184312</th>\n",
       "      <td>2021-06-24 04:15:34</td>\n",
       "      <td>2021-06-24</td>\n",
       "      <td>4</td>\n",
       "      <td>15</td>\n",
       "      <td>M15</td>\n",
       "      <td>0</td>\n",
       "      <td>5829</td>\n",
       "      <td>40.7689</td>\n",
       "      <td>-73.9552</td>\n",
       "      <td>MTA_401710</td>\n",
       "      <td>141.38</td>\n",
       "      <td>9510.59</td>\n",
       "      <td>\\N</td>\n",
       "      <td>401710</td>\n",
       "    </tr>\n",
       "    <tr>\n",
       "      <th>62267490</th>\n",
       "      <td>2021-06-07 17:38:10</td>\n",
       "      <td>2021-06-07</td>\n",
       "      <td>17</td>\n",
       "      <td>38</td>\n",
       "      <td>M15</td>\n",
       "      <td>1</td>\n",
       "      <td>6035</td>\n",
       "      <td>40.8022</td>\n",
       "      <td>-73.9339</td>\n",
       "      <td>MTA_401739</td>\n",
       "      <td>213.85</td>\n",
       "      <td>422.82</td>\n",
       "      <td>\\N</td>\n",
       "      <td>401739</td>\n",
       "    </tr>\n",
       "  </tbody>\n",
       "</table>\n",
       "</div>"
      ],
      "text/plain": [
       "                   timestamp service_date  hour  minute route_short  \\\n",
       "index                                                                 \n",
       "58282723 2021-06-04 22:44:48   2021-06-04    22      44         M15   \n",
       "61468787 2021-06-07 10:33:12   2021-06-07    10      33         M15   \n",
       "76428367 2021-06-15 17:52:29   2021-06-15    17      52         M15   \n",
       "91184312 2021-06-24 04:15:34   2021-06-24     4      15         M15   \n",
       "62267490 2021-06-07 17:38:10   2021-06-07    17      38         M15   \n",
       "\n",
       "          direction vehicle_id      lat      lon next_stop_id  next_stop_d  \\\n",
       "index                                                                        \n",
       "58282723          1       5900  40.7430 -73.9772   MTA_401775        44.59   \n",
       "61468787          1       6035  40.7491 -73.9728   MTA_401772       183.45   \n",
       "76428367          0       5914  40.7276 -73.9853   MTA_401685        36.36   \n",
       "91184312          0       5829  40.7689 -73.9552   MTA_401710       141.38   \n",
       "62267490          1       6035  40.8022 -73.9339   MTA_401739       213.85   \n",
       "\n",
       "          next_stop_d_along_route passenger_count next_stop_id_cleaned  \n",
       "index                                                                   \n",
       "58282723                  7783.19              \\N               401775  \n",
       "61468787                  7148.17               8               401772  \n",
       "76428367                  2058.94              \\N               401685  \n",
       "91184312                  9510.59              \\N               401710  \n",
       "62267490                   422.82              \\N               401739  "
      ]
     },
     "execution_count": 10,
     "metadata": {},
     "output_type": "execute_result"
    }
   ],
   "source": [
    "df.sample(n=5)"
   ]
  },
  {
   "cell_type": "markdown",
   "id": "6c448967",
   "metadata": {},
   "source": [
    "## Fix passenger_count"
   ]
  },
  {
   "cell_type": "raw",
   "id": "972e47db",
   "metadata": {},
   "source": [
    "Recoding passenger counts properly requires a multi-step process."
   ]
  },
  {
   "cell_type": "code",
   "execution_count": 11,
   "id": "0bbeeaf5",
   "metadata": {},
   "outputs": [
    {
     "data": {
      "text/plain": [
       "1558777"
      ]
     },
     "execution_count": 11,
     "metadata": {},
     "output_type": "execute_result"
    }
   ],
   "source": [
    "df['passenger_count'].str.count(r'\\\\N').sum()"
   ]
  },
  {
   "cell_type": "raw",
   "id": "072289c9",
   "metadata": {},
   "source": [
    "Identify vehicles with occupancy sensors installed. "
   ]
  },
  {
   "cell_type": "code",
   "execution_count": 12,
   "id": "87a4c7af",
   "metadata": {},
   "outputs": [
    {
     "data": {
      "text/plain": [
       "array(['6043', '6101', '6065', '6073', '6049', '6079', '6063', '6037',\n",
       "       '6059', '6039', '6035', '6053', '6197', '6097', '6069', '6075',\n",
       "       '6067', '6051', '6061', '6071', '6205', '6045', '6105', '6217',\n",
       "       '6163', '6095', '4961', '6164', '6094', '6129', '6190', '6108'],\n",
       "      dtype=object)"
      ]
     },
     "execution_count": 12,
     "metadata": {},
     "output_type": "execute_result"
    }
   ],
   "source": [
    "vehicle_lookup = df.query(\"passenger_count != r'\\\\N' \")['vehicle_id'].unique()\n",
    "vehicle_lookup"
   ]
  },
  {
   "cell_type": "raw",
   "id": "5a8d809a",
   "metadata": {},
   "source": [
    "Recode 'passenger_count':\n",
    "- If vehicle_id is in vehicle_lookup and passenger_count is \\N --> set passenger_count to 0\n",
    "- If vehicle_id is NOT in vehicle_lookup and passenger_count is \\N --> set passenger_count to None/NaN\n",
    "- Else, cast passenger_count to int"
   ]
  },
  {
   "cell_type": "code",
   "execution_count": 13,
   "id": "dd49079d",
   "metadata": {},
   "outputs": [],
   "source": [
    "def set_zero(row):\n",
    "    \n",
    "    # buses with sensors\n",
    "    if row.vehicle_id in vehicle_lookup:\n",
    "        if row.passenger_count == \"\\\\N\":\n",
    "            return 0\n",
    "        else:\n",
    "            return int(row.passenger_count)\n",
    "\n",
    "    # everything else\n",
    "    if row.passenger_count == \"\\\\N\":\n",
    "        return None\n",
    "    else:\n",
    "        return int(row.passenger_count)\n",
    "    \n",
    "df['passenger_count'] = df.apply(lambda row : set_zero(row), axis = 1)\n",
    "df[\"passenger_count\"] = pd.to_numeric(df[\"passenger_count\"])"
   ]
  },
  {
   "cell_type": "code",
   "execution_count": 14,
   "id": "aa6781a5",
   "metadata": {},
   "outputs": [
    {
     "data": {
      "text/html": [
       "<div>\n",
       "<style scoped>\n",
       "    .dataframe tbody tr th:only-of-type {\n",
       "        vertical-align: middle;\n",
       "    }\n",
       "\n",
       "    .dataframe tbody tr th {\n",
       "        vertical-align: top;\n",
       "    }\n",
       "\n",
       "    .dataframe thead th {\n",
       "        text-align: right;\n",
       "    }\n",
       "</style>\n",
       "<table border=\"1\" class=\"dataframe\">\n",
       "  <thead>\n",
       "    <tr style=\"text-align: right;\">\n",
       "      <th></th>\n",
       "      <th>timestamp</th>\n",
       "      <th>service_date</th>\n",
       "      <th>hour</th>\n",
       "      <th>minute</th>\n",
       "      <th>route_short</th>\n",
       "      <th>direction</th>\n",
       "      <th>vehicle_id</th>\n",
       "      <th>lat</th>\n",
       "      <th>lon</th>\n",
       "      <th>next_stop_id</th>\n",
       "      <th>next_stop_d</th>\n",
       "      <th>next_stop_d_along_route</th>\n",
       "      <th>passenger_count</th>\n",
       "      <th>next_stop_id_cleaned</th>\n",
       "    </tr>\n",
       "    <tr>\n",
       "      <th>index</th>\n",
       "      <th></th>\n",
       "      <th></th>\n",
       "      <th></th>\n",
       "      <th></th>\n",
       "      <th></th>\n",
       "      <th></th>\n",
       "      <th></th>\n",
       "      <th></th>\n",
       "      <th></th>\n",
       "      <th></th>\n",
       "      <th></th>\n",
       "      <th></th>\n",
       "      <th></th>\n",
       "      <th></th>\n",
       "    </tr>\n",
       "  </thead>\n",
       "  <tbody>\n",
       "    <tr>\n",
       "      <th>14262077</th>\n",
       "      <td>2021-05-11 12:11:20</td>\n",
       "      <td>2021-05-11</td>\n",
       "      <td>12</td>\n",
       "      <td>11</td>\n",
       "      <td>M15</td>\n",
       "      <td>0</td>\n",
       "      <td>5889</td>\n",
       "      <td>40.7618</td>\n",
       "      <td>-73.9603</td>\n",
       "      <td>MTA_401706</td>\n",
       "      <td>146.15</td>\n",
       "      <td>8619.92</td>\n",
       "      <td>NaN</td>\n",
       "      <td>401706</td>\n",
       "    </tr>\n",
       "    <tr>\n",
       "      <th>123349546</th>\n",
       "      <td>2021-04-13 04:16:16</td>\n",
       "      <td>2021-04-13</td>\n",
       "      <td>4</td>\n",
       "      <td>16</td>\n",
       "      <td>M15</td>\n",
       "      <td>0</td>\n",
       "      <td>5824</td>\n",
       "      <td>40.7017</td>\n",
       "      <td>-74.0126</td>\n",
       "      <td>None</td>\n",
       "      <td>NaN</td>\n",
       "      <td>NaN</td>\n",
       "      <td>NaN</td>\n",
       "      <td>None</td>\n",
       "    </tr>\n",
       "    <tr>\n",
       "      <th>92354840</th>\n",
       "      <td>2021-06-24 16:04:14</td>\n",
       "      <td>2021-06-24</td>\n",
       "      <td>16</td>\n",
       "      <td>4</td>\n",
       "      <td>M15</td>\n",
       "      <td>1</td>\n",
       "      <td>6073</td>\n",
       "      <td>40.7016</td>\n",
       "      <td>-74.0120</td>\n",
       "      <td>MTA_803002</td>\n",
       "      <td>20.18</td>\n",
       "      <td>13888.40</td>\n",
       "      <td>5.0</td>\n",
       "      <td>803002</td>\n",
       "    </tr>\n",
       "    <tr>\n",
       "      <th>131563787</th>\n",
       "      <td>2021-04-17 06:04:17</td>\n",
       "      <td>2021-04-17</td>\n",
       "      <td>6</td>\n",
       "      <td>4</td>\n",
       "      <td>M15</td>\n",
       "      <td>1</td>\n",
       "      <td>5866</td>\n",
       "      <td>40.8032</td>\n",
       "      <td>-73.9326</td>\n",
       "      <td>None</td>\n",
       "      <td>NaN</td>\n",
       "      <td>NaN</td>\n",
       "      <td>NaN</td>\n",
       "      <td>None</td>\n",
       "    </tr>\n",
       "    <tr>\n",
       "      <th>86584749</th>\n",
       "      <td>2021-06-21 16:53:06</td>\n",
       "      <td>2021-06-21</td>\n",
       "      <td>16</td>\n",
       "      <td>53</td>\n",
       "      <td>M15</td>\n",
       "      <td>1</td>\n",
       "      <td>5978</td>\n",
       "      <td>40.7309</td>\n",
       "      <td>-73.9860</td>\n",
       "      <td>MTA_404105</td>\n",
       "      <td>12.60</td>\n",
       "      <td>9287.81</td>\n",
       "      <td>NaN</td>\n",
       "      <td>404105</td>\n",
       "    </tr>\n",
       "    <tr>\n",
       "      <th>121662343</th>\n",
       "      <td>2021-04-12 08:22:17</td>\n",
       "      <td>2021-04-12</td>\n",
       "      <td>8</td>\n",
       "      <td>22</td>\n",
       "      <td>M15</td>\n",
       "      <td>0</td>\n",
       "      <td>5913</td>\n",
       "      <td>40.7255</td>\n",
       "      <td>-73.9868</td>\n",
       "      <td>None</td>\n",
       "      <td>NaN</td>\n",
       "      <td>NaN</td>\n",
       "      <td>NaN</td>\n",
       "      <td>None</td>\n",
       "    </tr>\n",
       "    <tr>\n",
       "      <th>151434519</th>\n",
       "      <td>2021-04-28 09:07:17</td>\n",
       "      <td>2021-04-28</td>\n",
       "      <td>9</td>\n",
       "      <td>7</td>\n",
       "      <td>M15</td>\n",
       "      <td>0</td>\n",
       "      <td>5884</td>\n",
       "      <td>40.7441</td>\n",
       "      <td>-73.9733</td>\n",
       "      <td>None</td>\n",
       "      <td>NaN</td>\n",
       "      <td>NaN</td>\n",
       "      <td>NaN</td>\n",
       "      <td>None</td>\n",
       "    </tr>\n",
       "    <tr>\n",
       "      <th>12235054</th>\n",
       "      <td>2021-05-10 12:06:21</td>\n",
       "      <td>2021-05-10</td>\n",
       "      <td>12</td>\n",
       "      <td>6</td>\n",
       "      <td>M15</td>\n",
       "      <td>1</td>\n",
       "      <td>5974</td>\n",
       "      <td>40.8032</td>\n",
       "      <td>-73.9325</td>\n",
       "      <td>MTA_401738</td>\n",
       "      <td>178.70</td>\n",
       "      <td>180.88</td>\n",
       "      <td>NaN</td>\n",
       "      <td>401738</td>\n",
       "    </tr>\n",
       "    <tr>\n",
       "      <th>126135929</th>\n",
       "      <td>2021-04-14 11:43:20</td>\n",
       "      <td>2021-04-14</td>\n",
       "      <td>11</td>\n",
       "      <td>43</td>\n",
       "      <td>M15</td>\n",
       "      <td>0</td>\n",
       "      <td>5885</td>\n",
       "      <td>40.7963</td>\n",
       "      <td>-73.9352</td>\n",
       "      <td>None</td>\n",
       "      <td>NaN</td>\n",
       "      <td>NaN</td>\n",
       "      <td>NaN</td>\n",
       "      <td>None</td>\n",
       "    </tr>\n",
       "    <tr>\n",
       "      <th>68691689</th>\n",
       "      <td>2021-06-11 05:57:53</td>\n",
       "      <td>2021-06-11</td>\n",
       "      <td>5</td>\n",
       "      <td>57</td>\n",
       "      <td>M15</td>\n",
       "      <td>0</td>\n",
       "      <td>5886</td>\n",
       "      <td>40.7407</td>\n",
       "      <td>-73.9757</td>\n",
       "      <td>MTA_401694</td>\n",
       "      <td>156.78</td>\n",
       "      <td>5941.08</td>\n",
       "      <td>NaN</td>\n",
       "      <td>401694</td>\n",
       "    </tr>\n",
       "  </tbody>\n",
       "</table>\n",
       "</div>"
      ],
      "text/plain": [
       "                    timestamp service_date  hour  minute route_short  \\\n",
       "index                                                                  \n",
       "14262077  2021-05-11 12:11:20   2021-05-11    12      11         M15   \n",
       "123349546 2021-04-13 04:16:16   2021-04-13     4      16         M15   \n",
       "92354840  2021-06-24 16:04:14   2021-06-24    16       4         M15   \n",
       "131563787 2021-04-17 06:04:17   2021-04-17     6       4         M15   \n",
       "86584749  2021-06-21 16:53:06   2021-06-21    16      53         M15   \n",
       "121662343 2021-04-12 08:22:17   2021-04-12     8      22         M15   \n",
       "151434519 2021-04-28 09:07:17   2021-04-28     9       7         M15   \n",
       "12235054  2021-05-10 12:06:21   2021-05-10    12       6         M15   \n",
       "126135929 2021-04-14 11:43:20   2021-04-14    11      43         M15   \n",
       "68691689  2021-06-11 05:57:53   2021-06-11     5      57         M15   \n",
       "\n",
       "           direction vehicle_id      lat      lon next_stop_id  next_stop_d  \\\n",
       "index                                                                         \n",
       "14262077           0       5889  40.7618 -73.9603   MTA_401706       146.15   \n",
       "123349546          0       5824  40.7017 -74.0126         None          NaN   \n",
       "92354840           1       6073  40.7016 -74.0120   MTA_803002        20.18   \n",
       "131563787          1       5866  40.8032 -73.9326         None          NaN   \n",
       "86584749           1       5978  40.7309 -73.9860   MTA_404105        12.60   \n",
       "121662343          0       5913  40.7255 -73.9868         None          NaN   \n",
       "151434519          0       5884  40.7441 -73.9733         None          NaN   \n",
       "12235054           1       5974  40.8032 -73.9325   MTA_401738       178.70   \n",
       "126135929          0       5885  40.7963 -73.9352         None          NaN   \n",
       "68691689           0       5886  40.7407 -73.9757   MTA_401694       156.78   \n",
       "\n",
       "           next_stop_d_along_route  passenger_count next_stop_id_cleaned  \n",
       "index                                                                     \n",
       "14262077                   8619.92              NaN               401706  \n",
       "123349546                      NaN              NaN                 None  \n",
       "92354840                  13888.40              5.0               803002  \n",
       "131563787                      NaN              NaN                 None  \n",
       "86584749                   9287.81              NaN               404105  \n",
       "121662343                      NaN              NaN                 None  \n",
       "151434519                      NaN              NaN                 None  \n",
       "12235054                    180.88              NaN               401738  \n",
       "126135929                      NaN              NaN                 None  \n",
       "68691689                   5941.08              NaN               401694  "
      ]
     },
     "execution_count": 14,
     "metadata": {},
     "output_type": "execute_result"
    }
   ],
   "source": [
    "df.sample(n=10)"
   ]
  },
  {
   "cell_type": "raw",
   "id": "eb9d830e",
   "metadata": {},
   "source": [
    "Quality check a single sensor-equipped vehicle and a single non-equipped one."
   ]
  },
  {
   "cell_type": "code",
   "execution_count": 15,
   "id": "60f34661",
   "metadata": {},
   "outputs": [
    {
     "data": {
      "text/plain": [
       "array([[<AxesSubplot:title={'center':'passenger_count'}>]], dtype=object)"
      ]
     },
     "execution_count": 15,
     "metadata": {},
     "output_type": "execute_result"
    },
    {
     "data": {
      "image/png": "[encoded data removed]",
      "text/plain": [
       "<Figure size 432x288 with 1 Axes>"
      ]
     },
     "metadata": {
      "needs_background": "light"
     },
     "output_type": "display_data"
    }
   ],
   "source": [
    "df.loc[df['vehicle_id'] == '6049'].hist('passenger_count')"
   ]
  },
  {
   "cell_type": "code",
   "execution_count": 16,
   "id": "d9da09ea",
   "metadata": {},
   "outputs": [
    {
     "data": {
      "text/plain": [
       "array([[<AxesSubplot:title={'center':'passenger_count'}>]], dtype=object)"
      ]
     },
     "execution_count": 16,
     "metadata": {},
     "output_type": "execute_result"
    },
    {
     "data": {
      "image/png": "[encoded data removed]",
      "text/plain": [
       "<Figure size 432x288 with 1 Axes>"
      ]
     },
     "metadata": {
      "needs_background": "light"
     },
     "output_type": "display_data"
    }
   ],
   "source": [
    "df.loc[df['vehicle_id'] == '5976'].hist('passenger_count')"
   ]
  },
  {
   "cell_type": "markdown",
   "id": "b7c1516c",
   "metadata": {},
   "source": [
    "## Drop rows we can't use"
   ]
  },
  {
   "cell_type": "code",
   "execution_count": 17,
   "id": "cf6a9fb8",
   "metadata": {},
   "outputs": [
    {
     "data": {
      "text/plain": [
       "(1767091, 14)"
      ]
     },
     "execution_count": 17,
     "metadata": {},
     "output_type": "execute_result"
    }
   ],
   "source": [
    "df.shape"
   ]
  },
  {
   "cell_type": "raw",
   "id": "62ca2918",
   "metadata": {},
   "source": [
    "First, drop those with passenger_count=NaN"
   ]
  },
  {
   "cell_type": "code",
   "execution_count": 18,
   "id": "fa423dff",
   "metadata": {},
   "outputs": [
    {
     "data": {
      "text/plain": [
       "NaN     1516437\n",
       "0.0       42340\n",
       "1.0       22864\n",
       "2.0       19144\n",
       "3.0       17035\n",
       "4.0       15631\n",
       "5.0       13643\n",
       "6.0       13331\n",
       "7.0       12375\n",
       "8.0       11485\n",
       "9.0       10208\n",
       "10.0       9406\n",
       "11.0       8395\n",
       "12.0       7606\n",
       "13.0       6793\n",
       "14.0       5867\n",
       "15.0       5184\n",
       "16.0       4401\n",
       "17.0       3746\n",
       "18.0       3274\n",
       "19.0       2836\n",
       "20.0       2360\n",
       "21.0       2026\n",
       "22.0       1825\n",
       "23.0       1514\n",
       "24.0       1194\n",
       "25.0       1082\n",
       "26.0        864\n",
       "27.0        688\n",
       "28.0        613\n",
       "29.0        471\n",
       "30.0        412\n",
       "31.0        384\n",
       "32.0        245\n",
       "33.0        244\n",
       "34.0        218\n",
       "35.0        155\n",
       "37.0        138\n",
       "36.0        135\n",
       "38.0         69\n",
       "39.0         65\n",
       "40.0         50\n",
       "41.0         49\n",
       "43.0         48\n",
       "42.0         38\n",
       "45.0         38\n",
       "48.0         23\n",
       "47.0         22\n",
       "49.0         19\n",
       "50.0         18\n",
       "44.0         16\n",
       "51.0         13\n",
       "46.0         12\n",
       "52.0         11\n",
       "53.0          9\n",
       "54.0          8\n",
       "55.0          6\n",
       "57.0          5\n",
       "61.0          2\n",
       "58.0          1\n",
       "Name: passenger_count, dtype: int64"
      ]
     },
     "execution_count": 18,
     "metadata": {},
     "output_type": "execute_result"
    }
   ],
   "source": [
    "df['passenger_count'].value_counts(dropna=False)"
   ]
  },
  {
   "cell_type": "code",
   "execution_count": 19,
   "id": "363b05b3",
   "metadata": {},
   "outputs": [
    {
     "data": {
      "text/plain": [
       "(250654, 14)"
      ]
     },
     "execution_count": 19,
     "metadata": {},
     "output_type": "execute_result"
    }
   ],
   "source": [
    "df = df[df['passenger_count'].notna()]\n",
    "df.shape"
   ]
  },
  {
   "cell_type": "raw",
   "id": "786cfeb8",
   "metadata": {},
   "source": [
    "And now drop remaining rows where next_stop_id is NaN."
   ]
  },
  {
   "cell_type": "code",
   "execution_count": 20,
   "id": "1bf071a5",
   "metadata": {},
   "outputs": [
    {
     "data": {
      "text/plain": [
       "(161072, 14)"
      ]
     },
     "execution_count": 20,
     "metadata": {},
     "output_type": "execute_result"
    }
   ],
   "source": [
    "df = df[df['next_stop_id'].notna()]\n",
    "df.shape"
   ]
  },
  {
   "cell_type": "raw",
   "id": "c975759e",
   "metadata": {},
   "source": [
    "And check all the NaNs are gone."
   ]
  },
  {
   "cell_type": "code",
   "execution_count": 21,
   "id": "b91b684f",
   "metadata": {},
   "outputs": [
    {
     "data": {
      "text/plain": [
       "MTA_803054    8768\n",
       "MTA_803002    8533\n",
       "MTA_904920    4402\n",
       "MTA_401787    2992\n",
       "MTA_401738    2938\n",
       "              ... \n",
       "MTA_404327     342\n",
       "MTA_403831     318\n",
       "MTA_401802     285\n",
       "MTA_803019      18\n",
       "MTA_405359      15\n",
       "Name: next_stop_id, Length: 125, dtype: int64"
      ]
     },
     "execution_count": 21,
     "metadata": {},
     "output_type": "execute_result"
    }
   ],
   "source": [
    "df['next_stop_id'].value_counts(dropna=False)"
   ]
  },
  {
   "cell_type": "code",
   "execution_count": 22,
   "id": "b674b4d3",
   "metadata": {},
   "outputs": [
    {
     "data": {
      "text/plain": [
       "0.0     27058\n",
       "1.0     13622\n",
       "2.0     11135\n",
       "3.0     10367\n",
       "4.0      9896\n",
       "6.0      8552\n",
       "5.0      8376\n",
       "7.0      8049\n",
       "8.0      7380\n",
       "9.0      6610\n",
       "10.0     6121\n",
       "11.0     5456\n",
       "12.0     5198\n",
       "13.0     4600\n",
       "14.0     3939\n",
       "15.0     3492\n",
       "16.0     3022\n",
       "17.0     2602\n",
       "18.0     2280\n",
       "19.0     1912\n",
       "20.0     1620\n",
       "21.0     1471\n",
       "22.0     1271\n",
       "23.0     1188\n",
       "24.0      882\n",
       "25.0      801\n",
       "26.0      653\n",
       "27.0      557\n",
       "28.0      460\n",
       "29.0      357\n",
       "31.0      331\n",
       "30.0      327\n",
       "33.0      204\n",
       "32.0      197\n",
       "34.0      188\n",
       "35.0      139\n",
       "37.0      128\n",
       "36.0      122\n",
       "38.0       69\n",
       "39.0       64\n",
       "40.0       49\n",
       "41.0       48\n",
       "43.0       46\n",
       "45.0       35\n",
       "42.0       34\n",
       "48.0       23\n",
       "47.0       22\n",
       "49.0       19\n",
       "50.0       18\n",
       "44.0       15\n",
       "51.0       13\n",
       "46.0       12\n",
       "52.0       11\n",
       "53.0        9\n",
       "54.0        8\n",
       "55.0        6\n",
       "57.0        5\n",
       "61.0        2\n",
       "58.0        1\n",
       "Name: passenger_count, dtype: int64"
      ]
     },
     "execution_count": 22,
     "metadata": {},
     "output_type": "execute_result"
    }
   ],
   "source": [
    "df['passenger_count'].value_counts(dropna=False)"
   ]
  },
  {
   "cell_type": "markdown",
   "id": "6a0fe95e",
   "metadata": {},
   "source": [
    "## Final check"
   ]
  },
  {
   "cell_type": "code",
   "execution_count": 23,
   "id": "d7ef230c",
   "metadata": {},
   "outputs": [
    {
     "data": {
      "text/plain": [
       "(161072, 14)"
      ]
     },
     "execution_count": 23,
     "metadata": {},
     "output_type": "execute_result"
    }
   ],
   "source": [
    "df.shape"
   ]
  },
  {
   "cell_type": "code",
   "execution_count": 24,
   "id": "a5789c2e",
   "metadata": {},
   "outputs": [
    {
     "data": {
      "text/plain": [
       "<AxesSubplot:>"
      ]
     },
     "execution_count": 24,
     "metadata": {},
     "output_type": "execute_result"
    },
    {
     "data": {
      "image/png": "[encoded data removed]",
      "text/plain": [
       "<Figure size 432x288 with 1 Axes>"
      ]
     },
     "metadata": {
      "needs_background": "light"
     },
     "output_type": "display_data"
    }
   ],
   "source": [
    "df['service_date'].value_counts(dropna=False).sort_index(ascending=True).plot()"
   ]
  },
  {
   "cell_type": "code",
   "execution_count": 25,
   "id": "5ef2a90f",
   "metadata": {},
   "outputs": [
    {
     "data": {
      "text/plain": [
       "array([[<AxesSubplot:title={'center':'passenger_count'}>]], dtype=object)"
      ]
     },
     "execution_count": 25,
     "metadata": {},
     "output_type": "execute_result"
    },
    {
     "data": {
      "image/png": "[encoded data removed]",
      "text/plain": [
       "<Figure size 432x288 with 1 Axes>"
      ]
     },
     "metadata": {
      "needs_background": "light"
     },
     "output_type": "display_data"
    }
   ],
   "source": [
    "df.hist('passenger_count')"
   ]
  },
  {
   "cell_type": "markdown",
   "id": "9d1d88e9",
   "metadata": {},
   "source": [
    "### Save an updated table"
   ]
  },
  {
   "cell_type": "code",
   "execution_count": 26,
   "id": "49355ff4",
   "metadata": {},
   "outputs": [],
   "source": [
    "df.to_parquet(f'data/nyc_buses_with_passenger_counts_20210401_20210630_{route}_cleaned.parquet')"
   ]
  }
 ],
 "metadata": {
  "kernelspec": {
   "display_name": "Python [conda env:tensorflow]",
   "language": "python",
   "name": "conda-env-tensorflow-py"
  },
  "language_info": {
   "codemirror_mode": {
    "name": "ipython",
    "version": 3
   },
   "file_extension": ".py",
   "mimetype": "text/x-python",
   "name": "python",
   "nbconvert_exporter": "python",
   "pygments_lexer": "ipython3",
   "version": "3.9.5"
  }
 },
 "nbformat": 4,
 "nbformat_minor": 5
}
