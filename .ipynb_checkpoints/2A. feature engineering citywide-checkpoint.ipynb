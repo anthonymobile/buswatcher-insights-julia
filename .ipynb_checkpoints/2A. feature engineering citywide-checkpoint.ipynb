{
 "cells": [
  {
   "cell_type": "markdown",
   "id": "8e10ca8c",
   "metadata": {},
   "source": [
    "# Feature Engineering—CITYWIDE DATA SET"
   ]
  },
  {
   "cell_type": "code",
   "execution_count": 1,
   "id": "70053bb2",
   "metadata": {},
   "outputs": [
    {
     "data": {
      "text/plain": [
       "(4171122, 15)"
      ]
     },
     "execution_count": 1,
     "metadata": {},
     "output_type": "execute_result"
    }
   ],
   "source": [
    "import pandas as pd\n",
    "import numpy as np\n",
    "df = pd.read_feather(f'data/nyc_buses_with_passenger_counts_20210401_20210630_citywide_cleaned.feather')\n",
    "df.shape"
   ]
  },
  {
   "cell_type": "markdown",
   "id": "58e1d26d",
   "metadata": {},
   "source": [
    "## geographic transformations"
   ]
  },
  {
   "cell_type": "markdown",
   "id": "b4355e08",
   "metadata": {},
   "source": [
    "#### as-is"
   ]
  },
  {
   "cell_type": "raw",
   "id": "6585b082",
   "metadata": {},
   "source": [
    "“Note that Lat/Long coordinates can often be used as-is with tree-based models like Random Forest or Gradient Boost that do not require data to be normalized. Other models such as neural network models would usually require those coordinates to be normalized.” https://towardsdatascience.com/leveraging-geolocation-data-for-machine-learning-essential-techniques-192ce3a969bc"
   ]
  },
  {
   "cell_type": "markdown",
   "id": "0e6a560d",
   "metadata": {},
   "source": [
    "#### use a distance variable"
   ]
  },
  {
   "cell_type": "raw",
   "id": "6d1d79bc",
   "metadata": {},
   "source": [
    "Here we'll use `next_stop_d_along_route` as a feature."
   ]
  },
  {
   "cell_type": "markdown",
   "id": "e57d08e3",
   "metadata": {},
   "source": [
    "#### create clusters"
   ]
  },
  {
   "cell_type": "raw",
   "id": "c6125ec1",
   "metadata": {},
   "source": [
    "Use KMeans clustering on lat, lon.\n",
    "Also include direction to distinguish between services.\n",
    "Also include next_stop_id_cleaned to try to segment before and after passengers get picked up."
   ]
  },
  {
   "cell_type": "code",
   "execution_count": null,
   "id": "b44b6bd4",
   "metadata": {},
   "outputs": [],
   "source": [
    "# https://bmanikan.medium.com/feature-engineering-all-i-learned-about-geo-spatial-features-649871d16796\n",
    "\n",
    "from sklearn.cluster import KMeans\n",
    "\n",
    "def cluster(df):\n",
    "  '''\n",
    "  input: dataframe containing Latitude(x) and Longitude(y) coordinates\n",
    "  output: series of cluster labels that each row of coordinates belongs to.\n",
    "  '''\n",
    "  model = KMeans(n_clusters=200)\n",
    "  labels = model.fit_predict((df[['direction','lat', 'lon', 'next_stop_id_cleaned']]))\n",
    "  return labels\n",
    "\n",
    "df['cluster_id'] = cluster(df)"
   ]
  },
  {
   "cell_type": "code",
   "execution_count": null,
   "id": "c7433e83",
   "metadata": {},
   "outputs": [],
   "source": [
    "# df.plot(x=\"lat\", y=\"lon\", kind=\"scatter\", c=\"cluster_id\")"
   ]
  },
  {
   "cell_type": "markdown",
   "id": "2cc96300",
   "metadata": {},
   "source": [
    "#### transformation of coordinates"
   ]
  },
  {
   "cell_type": "code",
   "execution_count": null,
   "id": "6805767c",
   "metadata": {},
   "outputs": [],
   "source": [
    "# Option A (using UTM)\n",
    "# https://gis.stackexchange.com/questions/212723/how-can-i-convert-lon-lat-coordinates-to-x-y/352085\n",
    "import utm\n",
    "\n",
    "def utm_transform(s):\n",
    "    x, y, a, b = utm.from_latlon(s['lat'],s['lon'])\n",
    "    return pd.Series([x,y],index=['utm_x','utm_y'])\n",
    "\n",
    "df[['utm_x', 'utm_y']] = df.apply(utm_transform, axis=1, result_type=\"expand\")"
   ]
  },
  {
   "cell_type": "code",
   "execution_count": null,
   "id": "138ccab1",
   "metadata": {},
   "outputs": [],
   "source": [
    "# # Option B (projected)\n",
    "# # https://gis.stackexchange.com/questions/212723/how-can-i-convert-lon-lat-coordinates-to-x-y/352085\n",
    "\n",
    "# from pyproj import Transformer\n",
    "# transformer = Transformer.from_crs(\"epsg:4326\", \"epsg:2236\")\n",
    "\n",
    "# def pyproj_transform(s):\n",
    "#     x, y = transformer.transform(s['lon'], s['lat'])\n",
    "#     return pd.Series([x,y],index=['pyproj_x','pyproj_y'])\n",
    "\n",
    "# df[['pyproj_x', 'pyproj_y']] = df.apply(pyproj_transform, axis=1, result_type=\"expand\")"
   ]
  },
  {
   "cell_type": "raw",
   "id": "f81fc5c3",
   "metadata": {},
   "source": [
    "TO DO \"Polar transformation. A common approach in these cases is to transform the coordinates into polar coordinates, and add them as new features. When you think about it, you're adding a new way of expressing a same thing, just in a different scale or system. That way a tree will require less splits to be able to model this spatial dependency of the samples.\" https://stackoverflow.com/questions/61572370/dealing-with-longitude-and-latitude-in-feature-engineering"
   ]
  },
  {
   "cell_type": "code",
   "execution_count": null,
   "id": "fa63c6e8",
   "metadata": {},
   "outputs": [],
   "source": [
    "# TO DO?\n",
    "# # https://bmanikan.medium.com/feature-engineering-all-i-learned-about-geo-spatial-features-649871d16796\n",
    "# #  By rotating them, they would provide more spatial information for the Tree type models. which are extremely beneficial when compared to normal x-y coordinates. They help to visualize coordinates in different perception (viewing angle) and put some insights on the data that the model can learn from it. we can also do this rotation by Principal Component Analysis(PCA) which can give more options in our bucket. Will see it in a bit!\n",
    "\n",
    "# def rotation(df):\n",
    "#   '''\n",
    "#   # most frequently used degrees are 30,45,60\n",
    "#   input: dataframe containing Latitude(x) and Longitude(y)\n",
    "#   '''\n",
    "#   rot_45_x = (0.707 * df['lat']) + (0.707 * df['lon'])\n",
    "#   rot_45_y = (0.707 * df['lon']) + (0.707 * df['lat'])\n",
    "#   rot_30_x = (0.866 * df['lat']) + (0.5 * df['lon'])\n",
    "#   rot_30_y = (0.866 * df['lon']) + (0.5 * df['lat'])\n",
    "#   return rot_45_x, rot_45_y, rot_30_x, rot_30_y\n",
    "\n",
    "# #TODO check that it was correct to swap x=lat and y=lon\n",
    "\n",
    "# df[['rot_45_x', 'rot_45_y', 'rot_30_x', 'rot_30_y'] = "
   ]
  },
  {
   "cell_type": "markdown",
   "id": "ab810c8b",
   "metadata": {},
   "source": [
    "#### TODO Combine route_id and direction into a single feature (for when we do citywide model)"
   ]
  },
  {
   "cell_type": "markdown",
   "id": "d13f118b",
   "metadata": {},
   "source": [
    "## time series transformations"
   ]
  },
  {
   "cell_type": "markdown",
   "id": "89039c78",
   "metadata": {},
   "source": [
    "#### Month, week, and day of month"
   ]
  },
  {
   "cell_type": "code",
   "execution_count": null,
   "id": "76943354",
   "metadata": {},
   "outputs": [],
   "source": [
    "import datetime as dt\n",
    "\n",
    "df['month'] = df.timestamp.dt.month\n",
    "df['week'] = df.timestamp.dt.isocalendar().week.astype(int)\n",
    "df['day'] = df.timestamp.dt.day"
   ]
  },
  {
   "cell_type": "markdown",
   "id": "a3eb3bdf",
   "metadata": {},
   "source": [
    "#### Day of week flag"
   ]
  },
  {
   "cell_type": "code",
   "execution_count": null,
   "id": "0ab686ba",
   "metadata": {},
   "outputs": [],
   "source": [
    "df['service_date'] = pd.to_datetime(df['service_date'])\n",
    "df['day_of_week'] = df['service_date'].dt.weekday\n",
    "df['is_weekend'] = df['day_of_week'].isin([5, 6])"
   ]
  },
  {
   "cell_type": "code",
   "execution_count": null,
   "id": "52f95433",
   "metadata": {},
   "outputs": [],
   "source": [
    "# # one-hot encode day of week\n",
    "# df = pd.concat((df, pd.get_dummies(df['service_date'].dt.day_name())), axis=1)"
   ]
  },
  {
   "cell_type": "markdown",
   "id": "7732e312",
   "metadata": {},
   "source": [
    "#### Convert day of week to cyclical"
   ]
  },
  {
   "cell_type": "code",
   "execution_count": null,
   "id": "afc418fd",
   "metadata": {},
   "outputs": [],
   "source": [
    "df['day_of_week_sin'] = np.sin(df['day_of_week'] * (2 * np.pi / 7))\n",
    "df['day_of_week_cos'] = np.cos(df['day_of_week'] * (2 * np.pi / 7))"
   ]
  },
  {
   "cell_type": "markdown",
   "id": "696fe740",
   "metadata": {},
   "source": [
    "#### Convert hour to cyclical"
   ]
  },
  {
   "cell_type": "raw",
   "id": "69ef1a67",
   "metadata": {},
   "source": [
    "https://towardsdatascience.com/cyclical-features-encoding-its-about-time-ce23581845ca"
   ]
  },
  {
   "cell_type": "code",
   "execution_count": null,
   "id": "cf11af6e",
   "metadata": {},
   "outputs": [],
   "source": [
    "# cyclical time for hour\n",
    "\n",
    "import math\n",
    "\n",
    "# normalize\n",
    "df[\"hour_norm\"] = 2 * math.pi * df[\"hour\"] / df[\"hour\"].max()\n",
    "\n",
    "# calc cyclical features\n",
    "df[\"hour_cos\"] = np.cos(df[\"hour_norm\"])\n",
    "df[\"hour_sin\"] = np.sin(df[\"hour_norm\"])"
   ]
  },
  {
   "cell_type": "raw",
   "id": "00cdd6d7",
   "metadata": {},
   "source": [
    "TODO add a moving average / window column for passenger_count (best predictor of how many people are on the bus is how many there were before) using:\n",
    "https://towardsdatascience.com/preprocessing-time-series-data-for-supervised-learning-2e27493f44ae\n",
    "https://github.com/cydal/tsExtract"
   ]
  },
  {
   "cell_type": "raw",
   "id": "d03ad125",
   "metadata": {},
   "source": [
    "TODO A holiday flag?"
   ]
  },
  {
   "cell_type": "code",
   "execution_count": null,
   "id": "f76f2d01",
   "metadata": {},
   "outputs": [],
   "source": [
    "## Final Cleaning"
   ]
  },
  {
   "cell_type": "markdown",
   "id": "e188bb08",
   "metadata": {},
   "source": [
    "#### drop columns"
   ]
  },
  {
   "cell_type": "code",
   "execution_count": null,
   "id": "d42961db",
   "metadata": {},
   "outputs": [],
   "source": [
    "df = df.drop(['next_stop_id', 'timestamp','service_date', 'minute'], axis=1)"
   ]
  },
  {
   "cell_type": "code",
   "execution_count": null,
   "id": "c8f022e9",
   "metadata": {},
   "outputs": [],
   "source": [
    "#### reorder columns\n",
    "\n",
    "order = ['route_short',\n",
    "         'vehicle_id',\n",
    "         'month',\n",
    "         'week',\n",
    "         'day','hour',\n",
    "         'day_of_week',\n",
    "         'is_weekend',\n",
    "         'day_of_week_sin',\n",
    "         'day_of_week_cos',\n",
    "         'hour_norm',\n",
    "         'hour_cos',\n",
    "         'hour_sin',\n",
    "         'cluster_id',\n",
    "         'lat',\n",
    "         'lon',\n",
    "         'direction',\n",
    "         'next_stop_id_cleaned',\n",
    "         'next_stop_d',\n",
    "         'next_stop_d_along_route',\n",
    "         'passenger_count',]\n",
    "\n",
    "df = df.loc[:, order]"
   ]
  },
  {
   "cell_type": "code",
   "execution_count": null,
   "id": "2a1121d2",
   "metadata": {},
   "outputs": [],
   "source": [
    "df.sample(n=25)"
   ]
  },
  {
   "cell_type": "code",
   "execution_count": null,
   "id": "c93da293",
   "metadata": {},
   "outputs": [],
   "source": [
    "df.columns"
   ]
  },
  {
   "cell_type": "code",
   "execution_count": null,
   "id": "09f84990",
   "metadata": {},
   "outputs": [],
   "source": [
    "df.dtypes"
   ]
  },
  {
   "cell_type": "code",
   "execution_count": null,
   "id": "370aca77",
   "metadata": {},
   "outputs": [],
   "source": [
    "df['next_stop_id_cleaned'] = df['next_stop_id_cleaned'].astype(int)"
   ]
  },
  {
   "cell_type": "markdown",
   "id": "defd05b1",
   "metadata": {},
   "source": [
    "### TODO future"
   ]
  },
  {
   "cell_type": "raw",
   "id": "1d982ed5",
   "metadata": {},
   "source": [
    "https://www.quora.com/In-developing-a-machine-learning-model-can-I-use-the-ID-as-an-input-variable-or-how-can-I-benefit-from-the-fact-that-there-is-data-about-that-specific-individual\n",
    "https://towardsdatascience.com/the-art-of-finding-the-best-features-for-machine-learning-a9074e2ca60d\n",
    "https://datascience.aero/unique-identifiers-benefits-risks-data-anonymization/\n",
    "https://machinelearningmastery.com/why-one-hot-encode-data-in-machine-learning/"
   ]
  },
  {
   "cell_type": "markdown",
   "id": "8e0c8911",
   "metadata": {},
   "source": [
    "# dump an engineered table"
   ]
  },
  {
   "cell_type": "code",
   "execution_count": null,
   "id": "e016a319",
   "metadata": {},
   "outputs": [],
   "source": [
    "df.to_feather(f'data/nyc_buses_with_passenger_counts_20210401_20210630_citywide_features.feather')"
   ]
  }
 ],
 "metadata": {
  "kernelspec": {
   "display_name": "Python [conda env:tensorflow]",
   "language": "python",
   "name": "conda-env-tensorflow-py"
  },
  "language_info": {
   "codemirror_mode": {
    "name": "ipython",
    "version": 3
   },
   "file_extension": ".py",
   "mimetype": "text/x-python",
   "name": "python",
   "nbconvert_exporter": "python",
   "pygments_lexer": "ipython3",
   "version": "3.9.5"
  }
 },
 "nbformat": 4,
 "nbformat_minor": 5
}
